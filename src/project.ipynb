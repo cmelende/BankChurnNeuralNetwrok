{
 "cells": [
  {
   "cell_type": "markdown",
   "metadata": {
    "collapsed": true
   },
   "source": [
    "### Cory Melendez\n",
    "### Neural Network Project\n",
    "### Github Repository: https://github.com/cmelende/BankChurnNeuralNetwrok.git"
   ]
  },
  {
   "cell_type": "code",
   "execution_count": 1,
   "metadata": {},
   "outputs": [],
   "source": [
    "%matplotlib inline\n",
    "import pandas as pd\n",
    "import warnings\n",
    "import numpy as np\n",
    "import tensorflow as tf\n",
    "from sklearn import metrics\n",
    "\n",
    "from tensorflow.keras.datasets import mnist\n",
    "from tensorflow.keras import Sequential\n",
    "from tensorflow.keras.layers import Dense\n",
    "from tensorflow.keras.layers import Input\n",
    "from tensorflow.keras.layers import ThresholdedReLU\n",
    "from sklearn.model_selection import train_test_split\n"
   ]
  },
  {
   "cell_type": "code",
   "execution_count": 2,
   "metadata": {},
   "outputs": [
    {
     "output_type": "execute_result",
     "data": {
      "text/plain": [
       "'2.3.1'"
      ]
     },
     "metadata": {},
     "execution_count": 2
    }
   ],
   "source": [
    "tf.__version__"
   ]
  },
  {
   "cell_type": "code",
   "execution_count": 3,
   "metadata": {},
   "outputs": [],
   "source": [
    "# setup\n",
    "show_graphs = True\n",
    "row_number_column = \"RowNumber\"\n",
    "customer_id_column = \"CustomerId\"\n",
    "surname_column = \"Surname\"\n",
    "drop_columns = [row_number_column, customer_id_column, surname_column]\n",
    "all_columns = [row_number_column, customer_id_column,surname_column,\"CreditScore\",\"Geography\",\"Gender\",\"Age\",\"Tenure\",\"Balance\",\"NumOfProducts\",\"HasCrCard\",\"IsActiveMember\",\"EstimatedSalary\",\"Exited\"]\n"
   ]
  },
  {
   "cell_type": "markdown",
   "metadata": {},
   "source": [
    "### 1. Read the dataset\n"
   ]
  },
  {
   "cell_type": "code",
   "execution_count": 4,
   "metadata": {},
   "outputs": [
    {
     "output_type": "execute_result",
     "data": {
      "text/plain": [
       "   RowNumber  CustomerId   Surname  CreditScore Geography  Gender  Age  \\\n",
       "0          1    15634602  Hargrave          619    France  Female   42   \n",
       "1          2    15647311      Hill          608     Spain  Female   41   \n",
       "2          3    15619304      Onio          502    France  Female   42   \n",
       "3          4    15701354      Boni          699    France  Female   39   \n",
       "4          5    15737888  Mitchell          850     Spain  Female   43   \n",
       "\n",
       "   Tenure    Balance  NumOfProducts  HasCrCard  IsActiveMember  \\\n",
       "0       2       0.00              1          1               1   \n",
       "1       1   83807.86              1          0               1   \n",
       "2       8  159660.80              3          1               0   \n",
       "3       1       0.00              2          0               0   \n",
       "4       2  125510.82              1          1               1   \n",
       "\n",
       "   EstimatedSalary  Exited  \n",
       "0        101348.88       1  \n",
       "1        112542.58       0  \n",
       "2        113931.57       1  \n",
       "3         93826.63       0  \n",
       "4         79084.10       0  "
      ],
      "text/html": "<div>\n<style scoped>\n    .dataframe tbody tr th:only-of-type {\n        vertical-align: middle;\n    }\n\n    .dataframe tbody tr th {\n        vertical-align: top;\n    }\n\n    .dataframe thead th {\n        text-align: right;\n    }\n</style>\n<table border=\"1\" class=\"dataframe\">\n  <thead>\n    <tr style=\"text-align: right;\">\n      <th></th>\n      <th>RowNumber</th>\n      <th>CustomerId</th>\n      <th>Surname</th>\n      <th>CreditScore</th>\n      <th>Geography</th>\n      <th>Gender</th>\n      <th>Age</th>\n      <th>Tenure</th>\n      <th>Balance</th>\n      <th>NumOfProducts</th>\n      <th>HasCrCard</th>\n      <th>IsActiveMember</th>\n      <th>EstimatedSalary</th>\n      <th>Exited</th>\n    </tr>\n  </thead>\n  <tbody>\n    <tr>\n      <th>0</th>\n      <td>1</td>\n      <td>15634602</td>\n      <td>Hargrave</td>\n      <td>619</td>\n      <td>France</td>\n      <td>Female</td>\n      <td>42</td>\n      <td>2</td>\n      <td>0.00</td>\n      <td>1</td>\n      <td>1</td>\n      <td>1</td>\n      <td>101348.88</td>\n      <td>1</td>\n    </tr>\n    <tr>\n      <th>1</th>\n      <td>2</td>\n      <td>15647311</td>\n      <td>Hill</td>\n      <td>608</td>\n      <td>Spain</td>\n      <td>Female</td>\n      <td>41</td>\n      <td>1</td>\n      <td>83807.86</td>\n      <td>1</td>\n      <td>0</td>\n      <td>1</td>\n      <td>112542.58</td>\n      <td>0</td>\n    </tr>\n    <tr>\n      <th>2</th>\n      <td>3</td>\n      <td>15619304</td>\n      <td>Onio</td>\n      <td>502</td>\n      <td>France</td>\n      <td>Female</td>\n      <td>42</td>\n      <td>8</td>\n      <td>159660.80</td>\n      <td>3</td>\n      <td>1</td>\n      <td>0</td>\n      <td>113931.57</td>\n      <td>1</td>\n    </tr>\n    <tr>\n      <th>3</th>\n      <td>4</td>\n      <td>15701354</td>\n      <td>Boni</td>\n      <td>699</td>\n      <td>France</td>\n      <td>Female</td>\n      <td>39</td>\n      <td>1</td>\n      <td>0.00</td>\n      <td>2</td>\n      <td>0</td>\n      <td>0</td>\n      <td>93826.63</td>\n      <td>0</td>\n    </tr>\n    <tr>\n      <th>4</th>\n      <td>5</td>\n      <td>15737888</td>\n      <td>Mitchell</td>\n      <td>850</td>\n      <td>Spain</td>\n      <td>Female</td>\n      <td>43</td>\n      <td>2</td>\n      <td>125510.82</td>\n      <td>1</td>\n      <td>1</td>\n      <td>1</td>\n      <td>79084.10</td>\n      <td>0</td>\n    </tr>\n  </tbody>\n</table>\n</div>"
     },
     "metadata": {},
     "execution_count": 4
    }
   ],
   "source": [
    "df = pd.read_csv(\"bank.csv\")\n",
    "df.head()"
   ]
  },
  {
   "cell_type": "markdown",
   "metadata": {},
   "source": [
    "### 2. Drop the columns which are unique for all users like IDs (5 points)"
   ]
  },
  {
   "cell_type": "markdown",
   "metadata": {},
   "source": [
    "If we knew a little more about the domain, I would want to see if we should not drop the surname columns. The surnames could be valuable if we knew if they lived in the same houeshold or were close relatives but some surnames are common and there can be little relationship between people, and therefore not much information can be derived from knowing the surname alone. I am dropping it for now."
   ]
  },
  {
   "cell_type": "code",
   "execution_count": 5,
   "metadata": {},
   "outputs": [
    {
     "output_type": "execute_result",
     "data": {
      "text/plain": [
       "   CreditScore Geography  Gender  Age  Tenure    Balance  NumOfProducts  \\\n",
       "0          619    France  Female   42       2       0.00              1   \n",
       "1          608     Spain  Female   41       1   83807.86              1   \n",
       "2          502    France  Female   42       8  159660.80              3   \n",
       "3          699    France  Female   39       1       0.00              2   \n",
       "4          850     Spain  Female   43       2  125510.82              1   \n",
       "\n",
       "   HasCrCard  IsActiveMember  EstimatedSalary  Exited  \n",
       "0          1               1        101348.88       1  \n",
       "1          0               1        112542.58       0  \n",
       "2          1               0        113931.57       1  \n",
       "3          0               0         93826.63       0  \n",
       "4          1               1         79084.10       0  "
      ],
      "text/html": "<div>\n<style scoped>\n    .dataframe tbody tr th:only-of-type {\n        vertical-align: middle;\n    }\n\n    .dataframe tbody tr th {\n        vertical-align: top;\n    }\n\n    .dataframe thead th {\n        text-align: right;\n    }\n</style>\n<table border=\"1\" class=\"dataframe\">\n  <thead>\n    <tr style=\"text-align: right;\">\n      <th></th>\n      <th>CreditScore</th>\n      <th>Geography</th>\n      <th>Gender</th>\n      <th>Age</th>\n      <th>Tenure</th>\n      <th>Balance</th>\n      <th>NumOfProducts</th>\n      <th>HasCrCard</th>\n      <th>IsActiveMember</th>\n      <th>EstimatedSalary</th>\n      <th>Exited</th>\n    </tr>\n  </thead>\n  <tbody>\n    <tr>\n      <th>0</th>\n      <td>619</td>\n      <td>France</td>\n      <td>Female</td>\n      <td>42</td>\n      <td>2</td>\n      <td>0.00</td>\n      <td>1</td>\n      <td>1</td>\n      <td>1</td>\n      <td>101348.88</td>\n      <td>1</td>\n    </tr>\n    <tr>\n      <th>1</th>\n      <td>608</td>\n      <td>Spain</td>\n      <td>Female</td>\n      <td>41</td>\n      <td>1</td>\n      <td>83807.86</td>\n      <td>1</td>\n      <td>0</td>\n      <td>1</td>\n      <td>112542.58</td>\n      <td>0</td>\n    </tr>\n    <tr>\n      <th>2</th>\n      <td>502</td>\n      <td>France</td>\n      <td>Female</td>\n      <td>42</td>\n      <td>8</td>\n      <td>159660.80</td>\n      <td>3</td>\n      <td>1</td>\n      <td>0</td>\n      <td>113931.57</td>\n      <td>1</td>\n    </tr>\n    <tr>\n      <th>3</th>\n      <td>699</td>\n      <td>France</td>\n      <td>Female</td>\n      <td>39</td>\n      <td>1</td>\n      <td>0.00</td>\n      <td>2</td>\n      <td>0</td>\n      <td>0</td>\n      <td>93826.63</td>\n      <td>0</td>\n    </tr>\n    <tr>\n      <th>4</th>\n      <td>850</td>\n      <td>Spain</td>\n      <td>Female</td>\n      <td>43</td>\n      <td>2</td>\n      <td>125510.82</td>\n      <td>1</td>\n      <td>1</td>\n      <td>1</td>\n      <td>79084.10</td>\n      <td>0</td>\n    </tr>\n  </tbody>\n</table>\n</div>"
     },
     "metadata": {},
     "execution_count": 5
    }
   ],
   "source": [
    "df_no_id_columns = df.drop(drop_columns, axis=1)\n",
    "df_no_id_columns.head()"
   ]
  },
  {
   "cell_type": "markdown",
   "metadata": {},
   "source": [
    "### 3. Distinguish the features and target variable (5 points)"
   ]
  },
  {
   "cell_type": "markdown",
   "metadata": {},
   "source": [
    "* The features are \"CreditScore\",\"Geography\",\"Gender\",\"Age\",\"Tenure\",\"Balance\",\"NumOfProducts\",\"HasCrCard\",\"IsActiveMember\",\"EstimatedSalary\",\"Exited\"\n",
    "\n",
    "* The target variable column is \"Exited\""
   ]
  },
  {
   "cell_type": "code",
   "execution_count": 6,
   "metadata": {},
   "outputs": [],
   "source": [
    "feature_columns = [\"CreditScore\",\"Geography\",\"Gender\",\"Age\",\"Tenure\",\"Balance\",\"NumOfProducts\",\"HasCrCard\",\"IsActiveMember\",\"EstimatedSalary\"]\n",
    "target_column = \"Exited\"\n",
    "\n",
    "features_df = df_no_id_columns.copy()[feature_columns]\n",
    "target_df = df_no_id_columns.copy()[target_column]\n",
    "\n",
    "features_df_with_dummy_vars = pd.get_dummies(features_df)\n",
    "\n",
    "X = features_df_with_dummy_vars.copy()\n",
    "Y = target_df.copy()\n"
   ]
  },
  {
   "cell_type": "markdown",
   "metadata": {},
   "source": [
    "### 4. Divide the data set into training and test sets (5 points)"
   ]
  },
  {
   "cell_type": "code",
   "execution_count": 7,
   "metadata": {},
   "outputs": [],
   "source": [
    "\n",
    "X_train, X_test, y_train, y_test = train_test_split(X, Y, test_size=0.3, random_state=1)"
   ]
  },
  {
   "cell_type": "code",
   "execution_count": 8,
   "metadata": {},
   "outputs": [
    {
     "output_type": "execute_result",
     "data": {
      "text/plain": [
       "      CreditScore  Age  Tenure    Balance  NumOfProducts  HasCrCard  \\\n",
       "2228          644   37       8       0.00              2          1   \n",
       "5910          481   39       6       0.00              1          1   \n",
       "1950          680   37      10  123806.28              1          1   \n",
       "2119          690   29       5       0.00              2          1   \n",
       "5947          656   45       7  145933.27              1          1   \n",
       "\n",
       "      IsActiveMember  EstimatedSalary  Geography_France  Geography_Germany  \\\n",
       "2228               0         20968.88                 1                  0   \n",
       "5910               1         24677.54                 1                  0   \n",
       "1950               0         81776.84                 1                  0   \n",
       "2119               0        108577.97                 1                  0   \n",
       "5947               1        199392.14                 1                  0   \n",
       "\n",
       "      Geography_Spain  Gender_Female  Gender_Male  \n",
       "2228                0              1            0  \n",
       "5910                0              1            0  \n",
       "1950                0              1            0  \n",
       "2119                0              0            1  \n",
       "5947                0              1            0  "
      ],
      "text/html": "<div>\n<style scoped>\n    .dataframe tbody tr th:only-of-type {\n        vertical-align: middle;\n    }\n\n    .dataframe tbody tr th {\n        vertical-align: top;\n    }\n\n    .dataframe thead th {\n        text-align: right;\n    }\n</style>\n<table border=\"1\" class=\"dataframe\">\n  <thead>\n    <tr style=\"text-align: right;\">\n      <th></th>\n      <th>CreditScore</th>\n      <th>Age</th>\n      <th>Tenure</th>\n      <th>Balance</th>\n      <th>NumOfProducts</th>\n      <th>HasCrCard</th>\n      <th>IsActiveMember</th>\n      <th>EstimatedSalary</th>\n      <th>Geography_France</th>\n      <th>Geography_Germany</th>\n      <th>Geography_Spain</th>\n      <th>Gender_Female</th>\n      <th>Gender_Male</th>\n    </tr>\n  </thead>\n  <tbody>\n    <tr>\n      <th>2228</th>\n      <td>644</td>\n      <td>37</td>\n      <td>8</td>\n      <td>0.00</td>\n      <td>2</td>\n      <td>1</td>\n      <td>0</td>\n      <td>20968.88</td>\n      <td>1</td>\n      <td>0</td>\n      <td>0</td>\n      <td>1</td>\n      <td>0</td>\n    </tr>\n    <tr>\n      <th>5910</th>\n      <td>481</td>\n      <td>39</td>\n      <td>6</td>\n      <td>0.00</td>\n      <td>1</td>\n      <td>1</td>\n      <td>1</td>\n      <td>24677.54</td>\n      <td>1</td>\n      <td>0</td>\n      <td>0</td>\n      <td>1</td>\n      <td>0</td>\n    </tr>\n    <tr>\n      <th>1950</th>\n      <td>680</td>\n      <td>37</td>\n      <td>10</td>\n      <td>123806.28</td>\n      <td>1</td>\n      <td>1</td>\n      <td>0</td>\n      <td>81776.84</td>\n      <td>1</td>\n      <td>0</td>\n      <td>0</td>\n      <td>1</td>\n      <td>0</td>\n    </tr>\n    <tr>\n      <th>2119</th>\n      <td>690</td>\n      <td>29</td>\n      <td>5</td>\n      <td>0.00</td>\n      <td>2</td>\n      <td>1</td>\n      <td>0</td>\n      <td>108577.97</td>\n      <td>1</td>\n      <td>0</td>\n      <td>0</td>\n      <td>0</td>\n      <td>1</td>\n    </tr>\n    <tr>\n      <th>5947</th>\n      <td>656</td>\n      <td>45</td>\n      <td>7</td>\n      <td>145933.27</td>\n      <td>1</td>\n      <td>1</td>\n      <td>1</td>\n      <td>199392.14</td>\n      <td>1</td>\n      <td>0</td>\n      <td>0</td>\n      <td>1</td>\n      <td>0</td>\n    </tr>\n  </tbody>\n</table>\n</div>"
     },
     "metadata": {},
     "execution_count": 8
    }
   ],
   "source": [
    "X_train.head()"
   ]
  },
  {
   "cell_type": "markdown",
   "metadata": {},
   "source": [
    "### 5. Normalize the train and test data (10 points)\n"
   ]
  },
  {
   "cell_type": "code",
   "execution_count": 9,
   "metadata": {},
   "outputs": [],
   "source": [
    "normalized_columns = [\"Balance\", \"EstimatedSalary\", \"CreditScore\",\"Age\",\"Tenure\", \"NumOfProducts\"]\n",
    "\n",
    "def normalize_df(df, columns):\n",
    "    result = df.copy()\n",
    "    for feature_name in columns:\n",
    "        max_value = df[feature_name].max()\n",
    "        min_value = df[feature_name].min()\n",
    "        result[feature_name] = (df[feature_name] - min_value) / (max_value - min_value)\n",
    "    return result"
   ]
  },
  {
   "cell_type": "code",
   "execution_count": 10,
   "metadata": {},
   "outputs": [],
   "source": [
    "X_test_normalized = normalize_df(X_test, normalized_columns)\n",
    "X_train_normalized = normalize_df(X_train, normalized_columns)"
   ]
  },
  {
   "cell_type": "code",
   "execution_count": 11,
   "metadata": {},
   "outputs": [
    {
     "output_type": "execute_result",
     "data": {
      "text/plain": [
       "      CreditScore       Age  Tenure   Balance  NumOfProducts  HasCrCard  \\\n",
       "9953        0.400  0.391892     0.2  0.000000       0.333333          1   \n",
       "3850        0.660  0.216216     0.3  0.646825       0.000000          1   \n",
       "4962        0.362  0.324324     0.2  0.000000       0.333333          0   \n",
       "3886        0.720  0.216216     0.8  0.667320       0.333333          0   \n",
       "5437        0.386  0.162162     0.6  0.331694       0.000000          1   \n",
       "\n",
       "      IsActiveMember  EstimatedSalary  Geography_France  Geography_Germany  \\\n",
       "9953               1         0.485275                 1                  0   \n",
       "3850               0         0.332604                 1                  0   \n",
       "4962               1         0.452673                 1                  0   \n",
       "3886               1         0.007751                 0                  1   \n",
       "5437               1         0.883490                 0                  1   \n",
       "\n",
       "      Geography_Spain  Gender_Female  Gender_Male  \n",
       "9953                0              0            1  \n",
       "3850                0              0            1  \n",
       "4962                0              1            0  \n",
       "3886                0              0            1  \n",
       "5437                0              0            1  "
      ],
      "text/html": "<div>\n<style scoped>\n    .dataframe tbody tr th:only-of-type {\n        vertical-align: middle;\n    }\n\n    .dataframe tbody tr th {\n        vertical-align: top;\n    }\n\n    .dataframe thead th {\n        text-align: right;\n    }\n</style>\n<table border=\"1\" class=\"dataframe\">\n  <thead>\n    <tr style=\"text-align: right;\">\n      <th></th>\n      <th>CreditScore</th>\n      <th>Age</th>\n      <th>Tenure</th>\n      <th>Balance</th>\n      <th>NumOfProducts</th>\n      <th>HasCrCard</th>\n      <th>IsActiveMember</th>\n      <th>EstimatedSalary</th>\n      <th>Geography_France</th>\n      <th>Geography_Germany</th>\n      <th>Geography_Spain</th>\n      <th>Gender_Female</th>\n      <th>Gender_Male</th>\n    </tr>\n  </thead>\n  <tbody>\n    <tr>\n      <th>9953</th>\n      <td>0.400</td>\n      <td>0.391892</td>\n      <td>0.2</td>\n      <td>0.000000</td>\n      <td>0.333333</td>\n      <td>1</td>\n      <td>1</td>\n      <td>0.485275</td>\n      <td>1</td>\n      <td>0</td>\n      <td>0</td>\n      <td>0</td>\n      <td>1</td>\n    </tr>\n    <tr>\n      <th>3850</th>\n      <td>0.660</td>\n      <td>0.216216</td>\n      <td>0.3</td>\n      <td>0.646825</td>\n      <td>0.000000</td>\n      <td>1</td>\n      <td>0</td>\n      <td>0.332604</td>\n      <td>1</td>\n      <td>0</td>\n      <td>0</td>\n      <td>0</td>\n      <td>1</td>\n    </tr>\n    <tr>\n      <th>4962</th>\n      <td>0.362</td>\n      <td>0.324324</td>\n      <td>0.2</td>\n      <td>0.000000</td>\n      <td>0.333333</td>\n      <td>0</td>\n      <td>1</td>\n      <td>0.452673</td>\n      <td>1</td>\n      <td>0</td>\n      <td>0</td>\n      <td>1</td>\n      <td>0</td>\n    </tr>\n    <tr>\n      <th>3886</th>\n      <td>0.720</td>\n      <td>0.216216</td>\n      <td>0.8</td>\n      <td>0.667320</td>\n      <td>0.333333</td>\n      <td>0</td>\n      <td>1</td>\n      <td>0.007751</td>\n      <td>0</td>\n      <td>1</td>\n      <td>0</td>\n      <td>0</td>\n      <td>1</td>\n    </tr>\n    <tr>\n      <th>5437</th>\n      <td>0.386</td>\n      <td>0.162162</td>\n      <td>0.6</td>\n      <td>0.331694</td>\n      <td>0.000000</td>\n      <td>1</td>\n      <td>1</td>\n      <td>0.883490</td>\n      <td>0</td>\n      <td>1</td>\n      <td>0</td>\n      <td>0</td>\n      <td>1</td>\n    </tr>\n  </tbody>\n</table>\n</div>"
     },
     "metadata": {},
     "execution_count": 11
    }
   ],
   "source": [
    "X_test_normalized.head()"
   ]
  },
  {
   "cell_type": "code",
   "execution_count": 12,
   "metadata": {},
   "outputs": [
    {
     "output_type": "execute_result",
     "data": {
      "text/plain": [
       "      CreditScore       Age  Tenure   Balance  NumOfProducts  HasCrCard  \\\n",
       "2228        0.588  0.256757     0.8  0.000000       0.333333          1   \n",
       "5910        0.262  0.283784     0.6  0.000000       0.000000          1   \n",
       "1950        0.660  0.256757     1.0  0.493452       0.000000          1   \n",
       "2119        0.680  0.148649     0.5  0.000000       0.333333          1   \n",
       "5947        0.612  0.364865     0.7  0.581644       0.000000          1   \n",
       "\n",
       "      IsActiveMember  EstimatedSalary  Geography_France  Geography_Germany  \\\n",
       "2228               0         0.104449                 1                  0   \n",
       "5910               1         0.123003                 1                  0   \n",
       "1950               0         0.408673                 1                  0   \n",
       "2119               0         0.542759                 1                  0   \n",
       "5947               1         0.997105                 1                  0   \n",
       "\n",
       "      Geography_Spain  Gender_Female  Gender_Male  \n",
       "2228                0              1            0  \n",
       "5910                0              1            0  \n",
       "1950                0              1            0  \n",
       "2119                0              0            1  \n",
       "5947                0              1            0  "
      ],
      "text/html": "<div>\n<style scoped>\n    .dataframe tbody tr th:only-of-type {\n        vertical-align: middle;\n    }\n\n    .dataframe tbody tr th {\n        vertical-align: top;\n    }\n\n    .dataframe thead th {\n        text-align: right;\n    }\n</style>\n<table border=\"1\" class=\"dataframe\">\n  <thead>\n    <tr style=\"text-align: right;\">\n      <th></th>\n      <th>CreditScore</th>\n      <th>Age</th>\n      <th>Tenure</th>\n      <th>Balance</th>\n      <th>NumOfProducts</th>\n      <th>HasCrCard</th>\n      <th>IsActiveMember</th>\n      <th>EstimatedSalary</th>\n      <th>Geography_France</th>\n      <th>Geography_Germany</th>\n      <th>Geography_Spain</th>\n      <th>Gender_Female</th>\n      <th>Gender_Male</th>\n    </tr>\n  </thead>\n  <tbody>\n    <tr>\n      <th>2228</th>\n      <td>0.588</td>\n      <td>0.256757</td>\n      <td>0.8</td>\n      <td>0.000000</td>\n      <td>0.333333</td>\n      <td>1</td>\n      <td>0</td>\n      <td>0.104449</td>\n      <td>1</td>\n      <td>0</td>\n      <td>0</td>\n      <td>1</td>\n      <td>0</td>\n    </tr>\n    <tr>\n      <th>5910</th>\n      <td>0.262</td>\n      <td>0.283784</td>\n      <td>0.6</td>\n      <td>0.000000</td>\n      <td>0.000000</td>\n      <td>1</td>\n      <td>1</td>\n      <td>0.123003</td>\n      <td>1</td>\n      <td>0</td>\n      <td>0</td>\n      <td>1</td>\n      <td>0</td>\n    </tr>\n    <tr>\n      <th>1950</th>\n      <td>0.660</td>\n      <td>0.256757</td>\n      <td>1.0</td>\n      <td>0.493452</td>\n      <td>0.000000</td>\n      <td>1</td>\n      <td>0</td>\n      <td>0.408673</td>\n      <td>1</td>\n      <td>0</td>\n      <td>0</td>\n      <td>1</td>\n      <td>0</td>\n    </tr>\n    <tr>\n      <th>2119</th>\n      <td>0.680</td>\n      <td>0.148649</td>\n      <td>0.5</td>\n      <td>0.000000</td>\n      <td>0.333333</td>\n      <td>1</td>\n      <td>0</td>\n      <td>0.542759</td>\n      <td>1</td>\n      <td>0</td>\n      <td>0</td>\n      <td>0</td>\n      <td>1</td>\n    </tr>\n    <tr>\n      <th>5947</th>\n      <td>0.612</td>\n      <td>0.364865</td>\n      <td>0.7</td>\n      <td>0.581644</td>\n      <td>0.000000</td>\n      <td>1</td>\n      <td>1</td>\n      <td>0.997105</td>\n      <td>1</td>\n      <td>0</td>\n      <td>0</td>\n      <td>1</td>\n      <td>0</td>\n    </tr>\n  </tbody>\n</table>\n</div>"
     },
     "metadata": {},
     "execution_count": 12
    }
   ],
   "source": [
    "X_train_normalized.head()"
   ]
  },
  {
   "cell_type": "markdown",
   "metadata": {},
   "source": [
    "### 6. Initialize & build the model. Identify the points of improvement and implement the same the same.(20)\n"
   ]
  },
  {
   "cell_type": "code",
   "execution_count": 13,
   "metadata": {},
   "outputs": [],
   "source": [
    "\n",
    "# first i made the mistake of inputting too many input layers. figured that our example in class where we had 784 columsn and 784 neurons in the input layer, that i should do something similar layer\n",
    "# model.add(Dense(784,activation='relu'))\n",
    "# model.add(Dense(100, activation ='relu'))\n",
    "# model.add(Dense(1,activation='softmax'))\n",
    "\n",
    "# Next i tried 13 neurons in the input layer but it changed very little\n",
    "# model.add(Dense(13,activation='relu'))\n",
    "# model.add(Dense(100, activation ='relu'))\n",
    "# model.add(Dense(1,activation='softmax'))\n",
    "\n",
    "# Wanted to see what more hidden layers would do, which didnt increase my accuracy, also changed the output layer's activiation function to sigmoid after research\n",
    "# model = Sequential()\n",
    "# model.add(Dense(13,activation='relu'))\n",
    "# model.add(Dense(10, activation ='relu'))\n",
    "# model.add(Dense(10, activation ='relu'))\n",
    "# model.add(Dense(10, activation ='relu'))\n",
    "# model.add(Dense(10, activation ='relu'))\n",
    "# model.add(Dense(10, activation ='relu'))\n",
    "# model.add(Dense(10, activation ='relu'))\n",
    "# model.add(Dense(10, activation ='relu'))\n",
    "# model.add(Dense(1,activation='sigmoid'))\n",
    "# model.compile(loss='categorical_crossentropy',optimizer='adam',metrics=['accuracy'])\n",
    "\n",
    "\n",
    "# this increased my accuracy by a lot,to .791 by changing the loss function to binary_crossentropy, i managed to more than double my accuracy\n",
    "# model = Sequential()\n",
    "# model.add(Dense(13,activation='relu'))\n",
    "# model.add(Dense(10, activation ='relu'))\n",
    "# model.add(Dense(1,activation='sigmoid'))\n",
    "# model.compile(loss='binary_crossentropy',optimizer='adam',metrics=['accuracy'])\n",
    "\n",
    "#accuracy didnt change here, also tried a lot more hidden layers without change\n",
    "# model = Sequential()\n",
    "# model.add(Dense(13,activation='relu'))\n",
    "# model.add(Dense(10, activation ='relu'))\n",
    "# model.add(Dense(10, activation ='relu'))\n",
    "# model.add(Dense(10, activation ='relu'))\n",
    "# model.add(Dense(10, activation ='relu'))\n",
    "# model.add(Dense(10, activation ='relu'))\n",
    "# model.add(Dense(1,activation='sigmoid'))\n",
    "# model.compile(loss='binary_crossentropy',optimizer='adam',metrics=['accuracy'])\n",
    "\n",
    "# accuracy was .791, a small decrease. Wanted to see if using an input layer would change much.\n",
    "# model = Sequential()\n",
    "# model.add(Input(shape=(13,)))\n",
    "# model.add(Dense(10, activation ='relu'))\n",
    "# model.add(Dense(1,activation='sigmoid'))\n",
    "# model.compile(loss='binary_crossentropy',optimizer='adam',metrics=['accuracy'])\n",
    "\n",
    "# accuracy went down .01, which is curious, the lack of a hidden layer seemed to not affect it. Which also is reinforced by what i tried above\n",
    "# model = Sequential()\n",
    "# model.add(Dense(13,activation='relu'))\n",
    "# model.add(Dense(1, activation='sigmoid'))\n",
    "# model.compile(loss='binary_crossentropy',optimizer='adam',metrics=['accuracy'])\n",
    "\n",
    "# accuracy went up, got .794 to .802 on different runs\n",
    "# model = Sequential()\n",
    "# model.add(Dense(13,activation='selu'))\n",
    "# model.add(Dense(1, activation='sigmoid'))\n",
    "# model.compile(loss='binary_crossentropy',optimizer='adam',metrics=['accuracy'])\n",
    "\n",
    "# adding more hidden layers increased the accuracy on average, got as high as .815\n",
    "# model = Sequential()\n",
    "# model.add(Dense(13,activation='selu'))\n",
    "# model.add(Dense(10, activation ='selu'))\n",
    "# model.add(Dense(10, activation ='selu'))\n",
    "# model.add(Dense(10, activation ='selu'))\n",
    "# model.add(Dense(1, activation='sigmoid'))\n",
    "# model.compile(loss='binary_crossentropy',optimizer='adam',metrics=['accuracy'])\n",
    "\n",
    "#accuarcy was .839 at best, but also dropped to .790 on some runs. Also I can tell that efficiency to train the model is starting to decrease\n",
    "model = Sequential()\n",
    "model.add(Dense(13,activation='selu'))\n",
    "model.add(Dense(10, activation ='selu'))\n",
    "model.add(Dense(10, activation ='selu'))\n",
    "model.add(Dense(10, activation ='selu'))\n",
    "model.add(Dense(10, activation ='selu'))\n",
    "model.add(Dense(10, activation ='selu'))\n",
    "model.add(Dense(10, activation ='selu'))\n",
    "model.add(Dense(10, activation ='selu'))\n",
    "model.add(Dense(10, activation ='selu'))\n",
    "model.add(Dense(10, activation ='selu'))\n",
    "model.add(Dense(10, activation ='selu'))\n",
    "model.add(Dense(10, activation ='selu'))\n",
    "model.add(Dense(10, activation ='selu'))\n",
    "model.add(Dense(1, activation='sigmoid'))\n",
    "model.compile(loss='binary_crossentropy',optimizer='adam',metrics=['accuracy'])\n",
    "\n",
    "# model = Sequential()\n",
    "# model.add(Dense(13,activation='selu'))\n",
    "# model.add(Dense(10, activation ='selu'))\n",
    "# model.add(Dense(10, activation ='selu'))\n",
    "# model.add(Dense(10, activation ='selu'))\n",
    "# model.add(Dense(10, activation ='selu'))\n",
    "# model.add(Dense(10, activation ='selu'))\n",
    "# model.add(Dense(10, activation ='selu'))\n",
    "# model.add(Dense(10, activation ='selu'))\n",
    "# model.add(Dense(10, activation ='selu'))\n",
    "# model.add(Dense(10, activation ='selu'))\n",
    "# model.add(Dense(10, activation ='selu'))\n",
    "# model.add(Dense(10, activation ='selu'))\n",
    "# model.add(Dense(10, activation ='selu'))\n",
    "# model.add(ThresholdedReLU(theta=.5))\n",
    "# model.compile(loss='binary_crossentropy',optimizer='adam',metrics=['accuracy'])\n"
   ]
  },
  {
   "cell_type": "code",
   "execution_count": 14,
   "metadata": {},
   "outputs": [
    {
     "output_type": "stream",
     "name": "stdout",
     "text": [
      "Epoch 1/10\n",
      "WARNING:tensorflow:Layer dense is casting an input tensor from dtype float64 to the layer's dtype of float32, which is new behavior in TensorFlow 2.  The layer has dtype float32 because its dtype defaults to floatx.\n",
      "\n",
      "If you intended to run this layer in float32, you can safely ignore this warning. If in doubt, this warning is likely only an issue if you are porting a TensorFlow 1.X model to TensorFlow 2.\n",
      "\n",
      "To change all layers to have dtype float64 by default, call `tf.keras.backend.set_floatx('float64')`. To change just this layer, pass dtype='float64' to the layer constructor. If you are the author of this layer, you can disable autocasting by passing autocast=False to the base Layer constructor.\n",
      "\n",
      "28/28 [==============================] - 0s 1ms/step - loss: 0.5185 - accuracy: 0.7733\n",
      "Epoch 2/10\n",
      "28/28 [==============================] - 0s 1ms/step - loss: 0.4757 - accuracy: 0.7971\n",
      "Epoch 3/10\n",
      "28/28 [==============================] - 0s 1ms/step - loss: 0.4711 - accuracy: 0.8000\n",
      "Epoch 4/10\n",
      "28/28 [==============================] - 0s 1ms/step - loss: 0.4685 - accuracy: 0.7989\n",
      "Epoch 5/10\n",
      "28/28 [==============================] - 0s 1ms/step - loss: 0.4657 - accuracy: 0.8014\n",
      "Epoch 6/10\n",
      "28/28 [==============================] - 0s 1ms/step - loss: 0.4643 - accuracy: 0.7996\n",
      "Epoch 7/10\n",
      "28/28 [==============================] - 0s 1ms/step - loss: 0.4625 - accuracy: 0.8024\n",
      "Epoch 8/10\n",
      "28/28 [==============================] - 0s 1ms/step - loss: 0.4573 - accuracy: 0.8064\n",
      "Epoch 9/10\n",
      "28/28 [==============================] - 0s 1ms/step - loss: 0.4536 - accuracy: 0.8056\n",
      "Epoch 10/10\n",
      "28/28 [==============================] - 0s 1ms/step - loss: 0.4476 - accuracy: 0.8079\n"
     ]
    },
    {
     "output_type": "execute_result",
     "data": {
      "text/plain": [
       "<tensorflow.python.keras.callbacks.History at 0x1ae5738bb50>"
      ]
     },
     "metadata": {},
     "execution_count": 14
    }
   ],
   "source": [
    "model.fit(X_train_normalized, y_train, epochs=10, batch_size=256, verbose=1) "
   ]
  },
  {
   "cell_type": "markdown",
   "metadata": {},
   "source": [
    "### 7. Predict the results using 0.5 as a threshold (10 points)"
   ]
  },
  {
   "cell_type": "code",
   "execution_count": 15,
   "metadata": {},
   "outputs": [
    {
     "output_type": "stream",
     "name": "stdout",
     "text": [
      "Accuracy: 0.806\nLoss: 0.448\n"
     ]
    }
   ],
   "source": [
    "loss, acc = model.evaluate(X_test_normalized, y_test, verbose=0)\n",
    "print('Accuracy: %.3f'  % acc)\n",
    "print('Loss: %.3f' % loss)"
   ]
  },
  {
   "cell_type": "code",
   "execution_count": 16,
   "metadata": {},
   "outputs": [],
   "source": [
    "y_predict = model.predict(X_test_normalized)"
   ]
  },
  {
   "cell_type": "code",
   "execution_count": 17,
   "metadata": {
    "tags": []
   },
   "outputs": [
    {
     "output_type": "error",
     "ename": "NameError",
     "evalue": "name 'counter' is not defined",
     "traceback": [
      "\u001b[1;31m---------------------------------------------------------------------------\u001b[0m",
      "\u001b[1;31mNameError\u001b[0m                                 Traceback (most recent call last)",
      "\u001b[1;32m<ipython-input-17-0969be787656>\u001b[0m in \u001b[0;36m<module>\u001b[1;34m\u001b[0m\n\u001b[0;32m      8\u001b[0m     \u001b[1;32melse\u001b[0m\u001b[1;33m:\u001b[0m\u001b[1;33m\u001b[0m\u001b[1;33m\u001b[0m\u001b[0m\n\u001b[0;32m      9\u001b[0m         \u001b[0misTrue\u001b[0m \u001b[1;33m=\u001b[0m \u001b[1;32mFalse\u001b[0m\u001b[1;33m\u001b[0m\u001b[1;33m\u001b[0m\u001b[0m\n\u001b[1;32m---> 10\u001b[1;33m         \u001b[0mcounter\u001b[0m \u001b[1;33m+=\u001b[0m \u001b[1;36m1\u001b[0m\u001b[1;33m\u001b[0m\u001b[1;33m\u001b[0m\u001b[0m\n\u001b[0m\u001b[0;32m     11\u001b[0m     \u001b[0my_pred_values\u001b[0m\u001b[1;33m.\u001b[0m\u001b[0mappend\u001b[0m\u001b[1;33m(\u001b[0m\u001b[0misTrue\u001b[0m\u001b[1;33m)\u001b[0m\u001b[1;33m\u001b[0m\u001b[1;33m\u001b[0m\u001b[0m\n\u001b[0;32m     12\u001b[0m \u001b[1;33m\u001b[0m\u001b[0m\n",
      "\u001b[1;31mNameError\u001b[0m: name 'counter' is not defined"
     ]
    }
   ],
   "source": [
    "y_predict\n",
    "y_pred_values = []\n",
    "for val in y_predict:\n",
    "    isTrue = False\n",
    "    if(val > .5):\n",
    "        isTrue = True\n",
    "    else:\n",
    "        isTrue = False\n",
    "    y_pred_values.append(isTrue)\n",
    "\n",
    "cm = metrics.confusion_matrix(y_test,y_pred_values)\n",
    "print(cm)"
   ]
  },
  {
   "cell_type": "markdown",
   "metadata": {},
   "source": [
    "### 8. Print the Accuracy score and confusion matrix (5 points)"
   ]
  }
 ],
 "metadata": {
  "kernelspec": {
   "name": "Python 3.8.6 64-bit ('venv')",
   "display_name": "Python 3.8.6 64-bit ('venv')",
   "metadata": {
    "interpreter": {
     "hash": "c5d65ee92e7efdf082bc76a0ec7d64b8ad2e30fa4458ee0d330ff3033a8d34f4"
    }
   }
  },
  "language_info": {
   "codemirror_mode": {
    "name": "ipython",
    "version": 2
   },
   "file_extension": ".py",
   "mimetype": "text/x-python",
   "name": "python",
   "nbconvert_exporter": "python",
   "pygments_lexer": "ipython2",
   "version": "3.8.6-final"
  }
 },
 "nbformat": 4,
 "nbformat_minor": 0
}