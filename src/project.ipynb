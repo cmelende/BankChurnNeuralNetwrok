{
 "cells": [
  {
   "cell_type": "markdown",
   "metadata": {
    "collapsed": true
   },
   "source": [
    "### Cory Melendez\n",
    "### Neural Network Project\n",
    "### Github Repository: https://github.com/cmelende/BankChurnNeuralNetwrok.git"
   ]
  },
  {
   "cell_type": "code",
   "execution_count": 285,
   "metadata": {},
   "outputs": [],
   "source": [
    "%matplotlib inline\n",
    "import pandas as pd\n",
    "import warnings\n",
    "import numpy as np\n",
    "import tensorflow as tf\n",
    "from sklearn import metrics\n",
    "import seaborn as sns\n",
    "import matplotlib.pyplot as plt\n",
    "\n",
    "\n",
    "from sklearn.metrics import plot_confusion_matrix\n",
    "from tensorflow.keras.datasets import mnist\n",
    "from tensorflow.keras import Sequential\n",
    "from tensorflow.keras.layers import Dense\n",
    "from tensorflow.keras.layers import Input\n",
    "from tensorflow.keras.layers import ThresholdedReLU\n",
    "from sklearn.model_selection import train_test_split\n"
   ]
  },
  {
   "cell_type": "code",
   "execution_count": 286,
   "metadata": {},
   "outputs": [
    {
     "output_type": "execute_result",
     "data": {
      "text/plain": [
       "'2.3.1'"
      ]
     },
     "metadata": {},
     "execution_count": 286
    }
   ],
   "source": [
    "tf.__version__"
   ]
  },
  {
   "cell_type": "code",
   "execution_count": 287,
   "metadata": {},
   "outputs": [],
   "source": [
    "# setup\n",
    "show_graphs = True\n",
    "row_number_column = \"RowNumber\"\n",
    "customer_id_column = \"CustomerId\"\n",
    "surname_column = \"Surname\"\n",
    "drop_columns = [row_number_column, customer_id_column, surname_column]\n",
    "all_columns = [row_number_column, customer_id_column,surname_column,\"CreditScore\",\"Geography\",\"Gender\",\"Age\",\"Tenure\",\"Balance\",\"NumOfProducts\",\"HasCrCard\",\"IsActiveMember\",\"EstimatedSalary\",\"Exited\"]\n"
   ]
  },
  {
   "cell_type": "markdown",
   "metadata": {},
   "source": [
    "### 1. Read the dataset\n"
   ]
  },
  {
   "cell_type": "code",
   "execution_count": 288,
   "metadata": {},
   "outputs": [
    {
     "output_type": "execute_result",
     "data": {
      "text/plain": [
       "   RowNumber  CustomerId   Surname  CreditScore Geography  Gender  Age  \\\n",
       "0          1    15634602  Hargrave          619    France  Female   42   \n",
       "1          2    15647311      Hill          608     Spain  Female   41   \n",
       "2          3    15619304      Onio          502    France  Female   42   \n",
       "3          4    15701354      Boni          699    France  Female   39   \n",
       "4          5    15737888  Mitchell          850     Spain  Female   43   \n",
       "\n",
       "   Tenure    Balance  NumOfProducts  HasCrCard  IsActiveMember  \\\n",
       "0       2       0.00              1          1               1   \n",
       "1       1   83807.86              1          0               1   \n",
       "2       8  159660.80              3          1               0   \n",
       "3       1       0.00              2          0               0   \n",
       "4       2  125510.82              1          1               1   \n",
       "\n",
       "   EstimatedSalary  Exited  \n",
       "0        101348.88       1  \n",
       "1        112542.58       0  \n",
       "2        113931.57       1  \n",
       "3         93826.63       0  \n",
       "4         79084.10       0  "
      ],
      "text/html": "<div>\n<style scoped>\n    .dataframe tbody tr th:only-of-type {\n        vertical-align: middle;\n    }\n\n    .dataframe tbody tr th {\n        vertical-align: top;\n    }\n\n    .dataframe thead th {\n        text-align: right;\n    }\n</style>\n<table border=\"1\" class=\"dataframe\">\n  <thead>\n    <tr style=\"text-align: right;\">\n      <th></th>\n      <th>RowNumber</th>\n      <th>CustomerId</th>\n      <th>Surname</th>\n      <th>CreditScore</th>\n      <th>Geography</th>\n      <th>Gender</th>\n      <th>Age</th>\n      <th>Tenure</th>\n      <th>Balance</th>\n      <th>NumOfProducts</th>\n      <th>HasCrCard</th>\n      <th>IsActiveMember</th>\n      <th>EstimatedSalary</th>\n      <th>Exited</th>\n    </tr>\n  </thead>\n  <tbody>\n    <tr>\n      <th>0</th>\n      <td>1</td>\n      <td>15634602</td>\n      <td>Hargrave</td>\n      <td>619</td>\n      <td>France</td>\n      <td>Female</td>\n      <td>42</td>\n      <td>2</td>\n      <td>0.00</td>\n      <td>1</td>\n      <td>1</td>\n      <td>1</td>\n      <td>101348.88</td>\n      <td>1</td>\n    </tr>\n    <tr>\n      <th>1</th>\n      <td>2</td>\n      <td>15647311</td>\n      <td>Hill</td>\n      <td>608</td>\n      <td>Spain</td>\n      <td>Female</td>\n      <td>41</td>\n      <td>1</td>\n      <td>83807.86</td>\n      <td>1</td>\n      <td>0</td>\n      <td>1</td>\n      <td>112542.58</td>\n      <td>0</td>\n    </tr>\n    <tr>\n      <th>2</th>\n      <td>3</td>\n      <td>15619304</td>\n      <td>Onio</td>\n      <td>502</td>\n      <td>France</td>\n      <td>Female</td>\n      <td>42</td>\n      <td>8</td>\n      <td>159660.80</td>\n      <td>3</td>\n      <td>1</td>\n      <td>0</td>\n      <td>113931.57</td>\n      <td>1</td>\n    </tr>\n    <tr>\n      <th>3</th>\n      <td>4</td>\n      <td>15701354</td>\n      <td>Boni</td>\n      <td>699</td>\n      <td>France</td>\n      <td>Female</td>\n      <td>39</td>\n      <td>1</td>\n      <td>0.00</td>\n      <td>2</td>\n      <td>0</td>\n      <td>0</td>\n      <td>93826.63</td>\n      <td>0</td>\n    </tr>\n    <tr>\n      <th>4</th>\n      <td>5</td>\n      <td>15737888</td>\n      <td>Mitchell</td>\n      <td>850</td>\n      <td>Spain</td>\n      <td>Female</td>\n      <td>43</td>\n      <td>2</td>\n      <td>125510.82</td>\n      <td>1</td>\n      <td>1</td>\n      <td>1</td>\n      <td>79084.10</td>\n      <td>0</td>\n    </tr>\n  </tbody>\n</table>\n</div>"
     },
     "metadata": {},
     "execution_count": 288
    }
   ],
   "source": [
    "df = pd.read_csv(\"bank.csv\")\n",
    "df.head()"
   ]
  },
  {
   "cell_type": "markdown",
   "metadata": {},
   "source": [
    "### 2. Drop the columns which are unique for all users like IDs (5 points)"
   ]
  },
  {
   "cell_type": "markdown",
   "metadata": {},
   "source": [
    "If we knew a little more about the domain, I would want to see if we should not drop the surname columns. The surnames could be valuable if we knew if they lived in the same houeshold or were close relatives but some surnames are common and there can be little relationship between people, and therefore not much information can be derived from knowing the surname alone. I am dropping it for now."
   ]
  },
  {
   "cell_type": "code",
   "execution_count": 289,
   "metadata": {},
   "outputs": [
    {
     "output_type": "execute_result",
     "data": {
      "text/plain": [
       "   CreditScore Geography  Gender  Age  Tenure    Balance  NumOfProducts  \\\n",
       "0          619    France  Female   42       2       0.00              1   \n",
       "1          608     Spain  Female   41       1   83807.86              1   \n",
       "2          502    France  Female   42       8  159660.80              3   \n",
       "3          699    France  Female   39       1       0.00              2   \n",
       "4          850     Spain  Female   43       2  125510.82              1   \n",
       "\n",
       "   HasCrCard  IsActiveMember  EstimatedSalary  Exited  \n",
       "0          1               1        101348.88       1  \n",
       "1          0               1        112542.58       0  \n",
       "2          1               0        113931.57       1  \n",
       "3          0               0         93826.63       0  \n",
       "4          1               1         79084.10       0  "
      ],
      "text/html": "<div>\n<style scoped>\n    .dataframe tbody tr th:only-of-type {\n        vertical-align: middle;\n    }\n\n    .dataframe tbody tr th {\n        vertical-align: top;\n    }\n\n    .dataframe thead th {\n        text-align: right;\n    }\n</style>\n<table border=\"1\" class=\"dataframe\">\n  <thead>\n    <tr style=\"text-align: right;\">\n      <th></th>\n      <th>CreditScore</th>\n      <th>Geography</th>\n      <th>Gender</th>\n      <th>Age</th>\n      <th>Tenure</th>\n      <th>Balance</th>\n      <th>NumOfProducts</th>\n      <th>HasCrCard</th>\n      <th>IsActiveMember</th>\n      <th>EstimatedSalary</th>\n      <th>Exited</th>\n    </tr>\n  </thead>\n  <tbody>\n    <tr>\n      <th>0</th>\n      <td>619</td>\n      <td>France</td>\n      <td>Female</td>\n      <td>42</td>\n      <td>2</td>\n      <td>0.00</td>\n      <td>1</td>\n      <td>1</td>\n      <td>1</td>\n      <td>101348.88</td>\n      <td>1</td>\n    </tr>\n    <tr>\n      <th>1</th>\n      <td>608</td>\n      <td>Spain</td>\n      <td>Female</td>\n      <td>41</td>\n      <td>1</td>\n      <td>83807.86</td>\n      <td>1</td>\n      <td>0</td>\n      <td>1</td>\n      <td>112542.58</td>\n      <td>0</td>\n    </tr>\n    <tr>\n      <th>2</th>\n      <td>502</td>\n      <td>France</td>\n      <td>Female</td>\n      <td>42</td>\n      <td>8</td>\n      <td>159660.80</td>\n      <td>3</td>\n      <td>1</td>\n      <td>0</td>\n      <td>113931.57</td>\n      <td>1</td>\n    </tr>\n    <tr>\n      <th>3</th>\n      <td>699</td>\n      <td>France</td>\n      <td>Female</td>\n      <td>39</td>\n      <td>1</td>\n      <td>0.00</td>\n      <td>2</td>\n      <td>0</td>\n      <td>0</td>\n      <td>93826.63</td>\n      <td>0</td>\n    </tr>\n    <tr>\n      <th>4</th>\n      <td>850</td>\n      <td>Spain</td>\n      <td>Female</td>\n      <td>43</td>\n      <td>2</td>\n      <td>125510.82</td>\n      <td>1</td>\n      <td>1</td>\n      <td>1</td>\n      <td>79084.10</td>\n      <td>0</td>\n    </tr>\n  </tbody>\n</table>\n</div>"
     },
     "metadata": {},
     "execution_count": 289
    }
   ],
   "source": [
    "df_no_id_columns = df.drop(drop_columns, axis=1)\n",
    "df_no_id_columns.head()"
   ]
  },
  {
   "cell_type": "markdown",
   "metadata": {},
   "source": [
    "### 3. Distinguish the features and target variable (5 points)"
   ]
  },
  {
   "cell_type": "markdown",
   "metadata": {},
   "source": [
    "* The features are \"CreditScore\",\"Geography\",\"Gender\",\"Age\",\"Tenure\",\"Balance\",\"NumOfProducts\",\"HasCrCard\",\"IsActiveMember\",\"EstimatedSalary\",\"Exited\"\n",
    "\n",
    "* The target variable column is \"Exited\""
   ]
  },
  {
   "cell_type": "code",
   "execution_count": 290,
   "metadata": {},
   "outputs": [],
   "source": [
    "feature_columns = [\"CreditScore\",\"Geography\",\"Gender\",\"Age\",\"Tenure\",\"Balance\",\"NumOfProducts\",\"HasCrCard\",\"IsActiveMember\",\"EstimatedSalary\"]\n",
    "target_column = \"Exited\"\n",
    "\n",
    "features_df = df_no_id_columns.copy()[feature_columns]\n",
    "target_df = df_no_id_columns.copy()[target_column]\n",
    "\n",
    "features_df_with_dummy_vars = pd.get_dummies(features_df)\n",
    "\n",
    "X = features_df_with_dummy_vars.copy()\n",
    "Y = target_df.copy()\n"
   ]
  },
  {
   "cell_type": "markdown",
   "metadata": {},
   "source": [
    "### 4. Divide the data set into training and test sets (5 points)"
   ]
  },
  {
   "cell_type": "code",
   "execution_count": 291,
   "metadata": {},
   "outputs": [],
   "source": [
    "\n",
    "X_train, X_test, y_train, y_test = train_test_split(X, Y, test_size=0.3, random_state=1)"
   ]
  },
  {
   "cell_type": "code",
   "execution_count": 292,
   "metadata": {},
   "outputs": [
    {
     "output_type": "execute_result",
     "data": {
      "text/plain": [
       "      CreditScore  Age  Tenure    Balance  NumOfProducts  HasCrCard  \\\n",
       "2228          644   37       8       0.00              2          1   \n",
       "5910          481   39       6       0.00              1          1   \n",
       "1950          680   37      10  123806.28              1          1   \n",
       "2119          690   29       5       0.00              2          1   \n",
       "5947          656   45       7  145933.27              1          1   \n",
       "\n",
       "      IsActiveMember  EstimatedSalary  Geography_France  Geography_Germany  \\\n",
       "2228               0         20968.88                 1                  0   \n",
       "5910               1         24677.54                 1                  0   \n",
       "1950               0         81776.84                 1                  0   \n",
       "2119               0        108577.97                 1                  0   \n",
       "5947               1        199392.14                 1                  0   \n",
       "\n",
       "      Geography_Spain  Gender_Female  Gender_Male  \n",
       "2228                0              1            0  \n",
       "5910                0              1            0  \n",
       "1950                0              1            0  \n",
       "2119                0              0            1  \n",
       "5947                0              1            0  "
      ],
      "text/html": "<div>\n<style scoped>\n    .dataframe tbody tr th:only-of-type {\n        vertical-align: middle;\n    }\n\n    .dataframe tbody tr th {\n        vertical-align: top;\n    }\n\n    .dataframe thead th {\n        text-align: right;\n    }\n</style>\n<table border=\"1\" class=\"dataframe\">\n  <thead>\n    <tr style=\"text-align: right;\">\n      <th></th>\n      <th>CreditScore</th>\n      <th>Age</th>\n      <th>Tenure</th>\n      <th>Balance</th>\n      <th>NumOfProducts</th>\n      <th>HasCrCard</th>\n      <th>IsActiveMember</th>\n      <th>EstimatedSalary</th>\n      <th>Geography_France</th>\n      <th>Geography_Germany</th>\n      <th>Geography_Spain</th>\n      <th>Gender_Female</th>\n      <th>Gender_Male</th>\n    </tr>\n  </thead>\n  <tbody>\n    <tr>\n      <th>2228</th>\n      <td>644</td>\n      <td>37</td>\n      <td>8</td>\n      <td>0.00</td>\n      <td>2</td>\n      <td>1</td>\n      <td>0</td>\n      <td>20968.88</td>\n      <td>1</td>\n      <td>0</td>\n      <td>0</td>\n      <td>1</td>\n      <td>0</td>\n    </tr>\n    <tr>\n      <th>5910</th>\n      <td>481</td>\n      <td>39</td>\n      <td>6</td>\n      <td>0.00</td>\n      <td>1</td>\n      <td>1</td>\n      <td>1</td>\n      <td>24677.54</td>\n      <td>1</td>\n      <td>0</td>\n      <td>0</td>\n      <td>1</td>\n      <td>0</td>\n    </tr>\n    <tr>\n      <th>1950</th>\n      <td>680</td>\n      <td>37</td>\n      <td>10</td>\n      <td>123806.28</td>\n      <td>1</td>\n      <td>1</td>\n      <td>0</td>\n      <td>81776.84</td>\n      <td>1</td>\n      <td>0</td>\n      <td>0</td>\n      <td>1</td>\n      <td>0</td>\n    </tr>\n    <tr>\n      <th>2119</th>\n      <td>690</td>\n      <td>29</td>\n      <td>5</td>\n      <td>0.00</td>\n      <td>2</td>\n      <td>1</td>\n      <td>0</td>\n      <td>108577.97</td>\n      <td>1</td>\n      <td>0</td>\n      <td>0</td>\n      <td>0</td>\n      <td>1</td>\n    </tr>\n    <tr>\n      <th>5947</th>\n      <td>656</td>\n      <td>45</td>\n      <td>7</td>\n      <td>145933.27</td>\n      <td>1</td>\n      <td>1</td>\n      <td>1</td>\n      <td>199392.14</td>\n      <td>1</td>\n      <td>0</td>\n      <td>0</td>\n      <td>1</td>\n      <td>0</td>\n    </tr>\n  </tbody>\n</table>\n</div>"
     },
     "metadata": {},
     "execution_count": 292
    }
   ],
   "source": [
    "X_train.head()"
   ]
  },
  {
   "cell_type": "markdown",
   "metadata": {},
   "source": [
    "### 5. Normalize the train and test data (10 points)\n"
   ]
  },
  {
   "cell_type": "code",
   "execution_count": 293,
   "metadata": {},
   "outputs": [],
   "source": [
    "normalized_columns = [\"Balance\", \"EstimatedSalary\", \"CreditScore\",\"Age\",\"Tenure\", \"NumOfProducts\"]\n",
    "\n",
    "def normalize_df(df, columns):\n",
    "    result = df.copy()\n",
    "    for feature_name in columns:\n",
    "        max_value = df[feature_name].max()\n",
    "        min_value = df[feature_name].min()\n",
    "        result[feature_name] = (df[feature_name] - min_value) / (max_value - min_value)\n",
    "    return result"
   ]
  },
  {
   "cell_type": "code",
   "execution_count": 294,
   "metadata": {},
   "outputs": [],
   "source": [
    "X_test_normalized = normalize_df(X_test, normalized_columns)\n",
    "X_train_normalized = normalize_df(X_train, normalized_columns)"
   ]
  },
  {
   "cell_type": "code",
   "execution_count": 295,
   "metadata": {},
   "outputs": [
    {
     "output_type": "execute_result",
     "data": {
      "text/plain": [
       "      CreditScore       Age  Tenure   Balance  NumOfProducts  HasCrCard  \\\n",
       "9953        0.400  0.391892     0.2  0.000000       0.333333          1   \n",
       "3850        0.660  0.216216     0.3  0.646825       0.000000          1   \n",
       "4962        0.362  0.324324     0.2  0.000000       0.333333          0   \n",
       "3886        0.720  0.216216     0.8  0.667320       0.333333          0   \n",
       "5437        0.386  0.162162     0.6  0.331694       0.000000          1   \n",
       "\n",
       "      IsActiveMember  EstimatedSalary  Geography_France  Geography_Germany  \\\n",
       "9953               1         0.485275                 1                  0   \n",
       "3850               0         0.332604                 1                  0   \n",
       "4962               1         0.452673                 1                  0   \n",
       "3886               1         0.007751                 0                  1   \n",
       "5437               1         0.883490                 0                  1   \n",
       "\n",
       "      Geography_Spain  Gender_Female  Gender_Male  \n",
       "9953                0              0            1  \n",
       "3850                0              0            1  \n",
       "4962                0              1            0  \n",
       "3886                0              0            1  \n",
       "5437                0              0            1  "
      ],
      "text/html": "<div>\n<style scoped>\n    .dataframe tbody tr th:only-of-type {\n        vertical-align: middle;\n    }\n\n    .dataframe tbody tr th {\n        vertical-align: top;\n    }\n\n    .dataframe thead th {\n        text-align: right;\n    }\n</style>\n<table border=\"1\" class=\"dataframe\">\n  <thead>\n    <tr style=\"text-align: right;\">\n      <th></th>\n      <th>CreditScore</th>\n      <th>Age</th>\n      <th>Tenure</th>\n      <th>Balance</th>\n      <th>NumOfProducts</th>\n      <th>HasCrCard</th>\n      <th>IsActiveMember</th>\n      <th>EstimatedSalary</th>\n      <th>Geography_France</th>\n      <th>Geography_Germany</th>\n      <th>Geography_Spain</th>\n      <th>Gender_Female</th>\n      <th>Gender_Male</th>\n    </tr>\n  </thead>\n  <tbody>\n    <tr>\n      <th>9953</th>\n      <td>0.400</td>\n      <td>0.391892</td>\n      <td>0.2</td>\n      <td>0.000000</td>\n      <td>0.333333</td>\n      <td>1</td>\n      <td>1</td>\n      <td>0.485275</td>\n      <td>1</td>\n      <td>0</td>\n      <td>0</td>\n      <td>0</td>\n      <td>1</td>\n    </tr>\n    <tr>\n      <th>3850</th>\n      <td>0.660</td>\n      <td>0.216216</td>\n      <td>0.3</td>\n      <td>0.646825</td>\n      <td>0.000000</td>\n      <td>1</td>\n      <td>0</td>\n      <td>0.332604</td>\n      <td>1</td>\n      <td>0</td>\n      <td>0</td>\n      <td>0</td>\n      <td>1</td>\n    </tr>\n    <tr>\n      <th>4962</th>\n      <td>0.362</td>\n      <td>0.324324</td>\n      <td>0.2</td>\n      <td>0.000000</td>\n      <td>0.333333</td>\n      <td>0</td>\n      <td>1</td>\n      <td>0.452673</td>\n      <td>1</td>\n      <td>0</td>\n      <td>0</td>\n      <td>1</td>\n      <td>0</td>\n    </tr>\n    <tr>\n      <th>3886</th>\n      <td>0.720</td>\n      <td>0.216216</td>\n      <td>0.8</td>\n      <td>0.667320</td>\n      <td>0.333333</td>\n      <td>0</td>\n      <td>1</td>\n      <td>0.007751</td>\n      <td>0</td>\n      <td>1</td>\n      <td>0</td>\n      <td>0</td>\n      <td>1</td>\n    </tr>\n    <tr>\n      <th>5437</th>\n      <td>0.386</td>\n      <td>0.162162</td>\n      <td>0.6</td>\n      <td>0.331694</td>\n      <td>0.000000</td>\n      <td>1</td>\n      <td>1</td>\n      <td>0.883490</td>\n      <td>0</td>\n      <td>1</td>\n      <td>0</td>\n      <td>0</td>\n      <td>1</td>\n    </tr>\n  </tbody>\n</table>\n</div>"
     },
     "metadata": {},
     "execution_count": 295
    }
   ],
   "source": [
    "X_test_normalized.head()"
   ]
  },
  {
   "cell_type": "code",
   "execution_count": 296,
   "metadata": {},
   "outputs": [
    {
     "output_type": "execute_result",
     "data": {
      "text/plain": [
       "      CreditScore       Age  Tenure   Balance  NumOfProducts  HasCrCard  \\\n",
       "2228        0.588  0.256757     0.8  0.000000       0.333333          1   \n",
       "5910        0.262  0.283784     0.6  0.000000       0.000000          1   \n",
       "1950        0.660  0.256757     1.0  0.493452       0.000000          1   \n",
       "2119        0.680  0.148649     0.5  0.000000       0.333333          1   \n",
       "5947        0.612  0.364865     0.7  0.581644       0.000000          1   \n",
       "\n",
       "      IsActiveMember  EstimatedSalary  Geography_France  Geography_Germany  \\\n",
       "2228               0         0.104449                 1                  0   \n",
       "5910               1         0.123003                 1                  0   \n",
       "1950               0         0.408673                 1                  0   \n",
       "2119               0         0.542759                 1                  0   \n",
       "5947               1         0.997105                 1                  0   \n",
       "\n",
       "      Geography_Spain  Gender_Female  Gender_Male  \n",
       "2228                0              1            0  \n",
       "5910                0              1            0  \n",
       "1950                0              1            0  \n",
       "2119                0              0            1  \n",
       "5947                0              1            0  "
      ],
      "text/html": "<div>\n<style scoped>\n    .dataframe tbody tr th:only-of-type {\n        vertical-align: middle;\n    }\n\n    .dataframe tbody tr th {\n        vertical-align: top;\n    }\n\n    .dataframe thead th {\n        text-align: right;\n    }\n</style>\n<table border=\"1\" class=\"dataframe\">\n  <thead>\n    <tr style=\"text-align: right;\">\n      <th></th>\n      <th>CreditScore</th>\n      <th>Age</th>\n      <th>Tenure</th>\n      <th>Balance</th>\n      <th>NumOfProducts</th>\n      <th>HasCrCard</th>\n      <th>IsActiveMember</th>\n      <th>EstimatedSalary</th>\n      <th>Geography_France</th>\n      <th>Geography_Germany</th>\n      <th>Geography_Spain</th>\n      <th>Gender_Female</th>\n      <th>Gender_Male</th>\n    </tr>\n  </thead>\n  <tbody>\n    <tr>\n      <th>2228</th>\n      <td>0.588</td>\n      <td>0.256757</td>\n      <td>0.8</td>\n      <td>0.000000</td>\n      <td>0.333333</td>\n      <td>1</td>\n      <td>0</td>\n      <td>0.104449</td>\n      <td>1</td>\n      <td>0</td>\n      <td>0</td>\n      <td>1</td>\n      <td>0</td>\n    </tr>\n    <tr>\n      <th>5910</th>\n      <td>0.262</td>\n      <td>0.283784</td>\n      <td>0.6</td>\n      <td>0.000000</td>\n      <td>0.000000</td>\n      <td>1</td>\n      <td>1</td>\n      <td>0.123003</td>\n      <td>1</td>\n      <td>0</td>\n      <td>0</td>\n      <td>1</td>\n      <td>0</td>\n    </tr>\n    <tr>\n      <th>1950</th>\n      <td>0.660</td>\n      <td>0.256757</td>\n      <td>1.0</td>\n      <td>0.493452</td>\n      <td>0.000000</td>\n      <td>1</td>\n      <td>0</td>\n      <td>0.408673</td>\n      <td>1</td>\n      <td>0</td>\n      <td>0</td>\n      <td>1</td>\n      <td>0</td>\n    </tr>\n    <tr>\n      <th>2119</th>\n      <td>0.680</td>\n      <td>0.148649</td>\n      <td>0.5</td>\n      <td>0.000000</td>\n      <td>0.333333</td>\n      <td>1</td>\n      <td>0</td>\n      <td>0.542759</td>\n      <td>1</td>\n      <td>0</td>\n      <td>0</td>\n      <td>0</td>\n      <td>1</td>\n    </tr>\n    <tr>\n      <th>5947</th>\n      <td>0.612</td>\n      <td>0.364865</td>\n      <td>0.7</td>\n      <td>0.581644</td>\n      <td>0.000000</td>\n      <td>1</td>\n      <td>1</td>\n      <td>0.997105</td>\n      <td>1</td>\n      <td>0</td>\n      <td>0</td>\n      <td>1</td>\n      <td>0</td>\n    </tr>\n  </tbody>\n</table>\n</div>"
     },
     "metadata": {},
     "execution_count": 296
    }
   ],
   "source": [
    "X_train_normalized.head()"
   ]
  },
  {
   "cell_type": "markdown",
   "metadata": {},
   "source": [
    "### 6. Initialize & build the model. Identify the points of improvement and implement the same the same.(20)\n",
    "### NOTE: The commented out code here is basically the order i tried different models with thoughts on why i changed it."
   ]
  },
  {
   "cell_type": "code",
   "execution_count": 297,
   "metadata": {},
   "outputs": [],
   "source": [
    "\n",
    "# first i made the mistake of inputting too many input layers. figured that our example in class where we had 784 columsn and 784 neurons in the input layer, that i should do something similar layer\n",
    "# model.add(Dense(784,activation='relu'))\n",
    "# model.add(Dense(100, activation ='relu'))\n",
    "# model.add(Dense(1,activation='softmax'))\n",
    "\n",
    "# Next i tried 13 neurons in the input layer but it changed very little\n",
    "# also - after some research found this: https://www.heatonresearch.com/2017/06/01/hidden-layers.html which stated\n",
    "# The number of hidden neurons should be between the size of the input layer and the size of the output layer, The number of hidden neurons should be 2/3 the size of the input layer, plus the size of the output layer,The number of hidden neurons should be less than twice the size of the input layer.\n",
    "# So i chose 10 since (13 * (2/3)) + 1 = 9.6666667\n",
    "# model.add(Dense(13,activation='relu'))\n",
    "# model.add(Dense(100, activation ='relu'))\n",
    "# model.add(Dense(1,activation='softmax'))\n",
    "\n",
    "# Wanted to see what more hidden layers would do, which didnt increase my accuracy, also changed the output layer's activiation function to sigmoid after research\n",
    "# model = Sequential()\n",
    "# model.add(Dense(13,activation='relu'))\n",
    "# model.add(Dense(10, activation ='relu'))\n",
    "# model.add(Dense(10, activation ='relu'))\n",
    "# model.add(Dense(10, activation ='relu'))\n",
    "# model.add(Dense(10, activation ='relu'))\n",
    "# model.add(Dense(10, activation ='relu'))\n",
    "# model.add(Dense(10, activation ='relu'))\n",
    "# model.add(Dense(10, activation ='relu'))\n",
    "# model.add(Dense(1,activation='sigmoid'))\n",
    "# model.compile(loss='categorical_crossentropy',optimizer='adam',metrics=['accuracy'])\n",
    "\n",
    "\n",
    "# this increased my accuracy by a lot,to .791 by changing the loss function to binary_crossentropy, i managed to more than double my accuracy\n",
    "# model = Sequential()\n",
    "# model.add(Dense(13,activation='relu'))\n",
    "# model.add(Dense(10, activation ='relu'))\n",
    "# model.add(Dense(1,activation='sigmoid'))\n",
    "# model.compile(loss='binary_crossentropy',optimizer='adam',metrics=['accuracy'])\n",
    "\n",
    "#accuracy didnt change here, also tried a lot more hidden layers without change\n",
    "# model = Sequential()\n",
    "# model.add(Dense(13,activation='relu'))\n",
    "# model.add(Dense(10, activation ='relu'))\n",
    "# model.add(Dense(10, activation ='relu'))\n",
    "# model.add(Dense(10, activation ='relu'))\n",
    "# model.add(Dense(10, activation ='relu'))\n",
    "# model.add(Dense(10, activation ='relu'))\n",
    "# model.add(Dense(1,activation='sigmoid'))\n",
    "# model.compile(loss='binary_crossentropy',optimizer='adam',metrics=['accuracy'])\n",
    "\n",
    "# accuracy was .791, a small decrease. Wanted to see if using an input layer would change much.\n",
    "# model = Sequential()\n",
    "# model.add(Input(shape=(13,)))\n",
    "# model.add(Dense(10, activation ='relu'))\n",
    "# model.add(Dense(1,activation='sigmoid'))\n",
    "# model.compile(loss='binary_crossentropy',optimizer='adam',metrics=['accuracy'])\n",
    "\n",
    "# accuracy went down .01, which is curious, the lack of a hidden layer seemed to not affect it. Which also is reinforced by what i tried above\n",
    "# model = Sequential()\n",
    "# model.add(Dense(13,activation='relu'))\n",
    "# model.add(Dense(1, activation='sigmoid'))\n",
    "# model.compile(loss='binary_crossentropy',optimizer='adam',metrics=['accuracy'])\n",
    "\n",
    "# accuracy went up, got .794 to .802 on different runs\n",
    "# model = Sequential()\n",
    "# model.add(Dense(13,activation='selu'))\n",
    "# model.add(Dense(1, activation='sigmoid'))\n",
    "# model.compile(loss='binary_crossentropy',optimizer='adam',metrics=['accuracy'])\n",
    "\n",
    "# adding more hidden layers increased the accuracy on average, got as high as .815\n",
    "# model = Sequential()\n",
    "# model.add(Dense(13,activation='selu'))\n",
    "# model.add(Dense(10, activation ='selu'))\n",
    "# model.add(Dense(10, activation ='selu'))\n",
    "# model.add(Dense(10, activation ='selu'))\n",
    "# model.add(Dense(1, activation='sigmoid'))\n",
    "# model.compile(loss='binary_crossentropy',optimizer='adam',metrics=['accuracy'])\n",
    "\n",
    "## BEST!!!\n",
    "## accuarcy was .839 at best, but also dropped to .790 on some runs. Also I can tell that efficiency to train the model is starting to decrease\n",
    "model = Sequential()\n",
    "model.add(Dense(13,activation='selu'))\n",
    "model.add(Dense(10, activation ='selu'))\n",
    "model.add(Dense(10, activation ='selu'))\n",
    "model.add(Dense(10, activation ='selu'))\n",
    "model.add(Dense(10, activation ='selu'))\n",
    "model.add(Dense(10, activation ='selu'))\n",
    "model.add(Dense(10, activation ='selu'))\n",
    "model.add(Dense(10, activation ='selu'))\n",
    "model.add(Dense(10, activation ='selu'))\n",
    "model.add(Dense(10, activation ='selu'))\n",
    "model.add(Dense(10, activation ='selu'))\n",
    "model.add(Dense(10, activation ='selu'))\n",
    "model.add(Dense(10, activation ='selu'))\n",
    "model.add(Dense(1, activation='sigmoid'))\n",
    "model.compile(loss='binary_crossentropy',optimizer='adam',metrics=['accuracy'])\n"
   ]
  },
  {
   "cell_type": "code",
   "execution_count": 298,
   "metadata": {},
   "outputs": [
    {
     "output_type": "stream",
     "name": "stdout",
     "text": [
      "Epoch 1/10\n",
      "WARNING:tensorflow:Layer dense_192 is casting an input tensor from dtype float64 to the layer's dtype of float32, which is new behavior in TensorFlow 2.  The layer has dtype float32 because its dtype defaults to floatx.\n",
      "\n",
      "If you intended to run this layer in float32, you can safely ignore this warning. If in doubt, this warning is likely only an issue if you are porting a TensorFlow 1.X model to TensorFlow 2.\n",
      "\n",
      "To change all layers to have dtype float64 by default, call `tf.keras.backend.set_floatx('float64')`. To change just this layer, pass dtype='float64' to the layer constructor. If you are the author of this layer, you can disable autocasting by passing autocast=False to the base Layer constructor.\n",
      "\n",
      "28/28 [==============================] - 0s 1ms/step - loss: 0.5013 - accuracy: 0.7964\n",
      "Epoch 2/10\n",
      "28/28 [==============================] - 0s 1ms/step - loss: 0.4797 - accuracy: 0.7984\n",
      "Epoch 3/10\n",
      "28/28 [==============================] - 0s 1ms/step - loss: 0.4730 - accuracy: 0.8000\n",
      "Epoch 4/10\n",
      "28/28 [==============================] - 0s 1ms/step - loss: 0.4607 - accuracy: 0.8037\n",
      "Epoch 5/10\n",
      "28/28 [==============================] - 0s 1ms/step - loss: 0.4434 - accuracy: 0.8056\n",
      "Epoch 6/10\n",
      "28/28 [==============================] - 0s 1ms/step - loss: 0.4304 - accuracy: 0.8146\n",
      "Epoch 7/10\n",
      "28/28 [==============================] - 0s 1ms/step - loss: 0.4239 - accuracy: 0.8163\n",
      "Epoch 8/10\n",
      "28/28 [==============================] - 0s 2ms/step - loss: 0.4171 - accuracy: 0.8219\n",
      "Epoch 9/10\n",
      "28/28 [==============================] - 0s 1ms/step - loss: 0.4171 - accuracy: 0.8221\n",
      "Epoch 10/10\n",
      "28/28 [==============================] - 0s 1ms/step - loss: 0.4097 - accuracy: 0.8281\n"
     ]
    },
    {
     "output_type": "execute_result",
     "data": {
      "text/plain": [
       "<tensorflow.python.keras.callbacks.History at 0x1ae75fc3be0>"
      ]
     },
     "metadata": {},
     "execution_count": 298
    }
   ],
   "source": [
    "model.fit(X_train_normalized, y_train, epochs=10, batch_size=256, verbose=1) "
   ]
  },
  {
   "cell_type": "markdown",
   "metadata": {},
   "source": [
    "### 7. Predict the results using 0.5 as a threshold (10 points)"
   ]
  },
  {
   "cell_type": "code",
   "execution_count": 299,
   "metadata": {},
   "outputs": [
    {
     "output_type": "stream",
     "name": "stdout",
     "text": [
      "Accuracy: 0.831\nLoss: 0.413\n"
     ]
    }
   ],
   "source": [
    "loss, acc = model.evaluate(X_test_normalized, y_test, verbose=0)\n",
    "print('Accuracy: %.3f'  % acc)\n",
    "print('Loss: %.3f' % loss)"
   ]
  },
  {
   "cell_type": "code",
   "execution_count": 300,
   "metadata": {},
   "outputs": [],
   "source": [
    "y_predict = model.predict(X_test_normalized)"
   ]
  },
  {
   "cell_type": "code",
   "execution_count": 301,
   "metadata": {
    "tags": []
   },
   "outputs": [],
   "source": [
    "y_predict\n",
    "lst = []\n",
    "y_pred_values = []\n",
    "for val in y_predict:\n",
    "    isTrue = 0\n",
    "    if(val > .5):\n",
    "        isTrue = 1\n",
    "    else:\n",
    "        isTrue = 0\n",
    "    lst.append(isTrue)\n",
    "    # y_pred_values.append(isTrue)\n",
    "    y_pred_values = pd.Series(lst) \n",
    "\n",
    "\n"
   ]
  },
  {
   "cell_type": "markdown",
   "metadata": {},
   "source": [
    "### 8. Print the Accuracy score and confusion matrix (5 points)"
   ]
  },
  {
   "cell_type": "code",
   "execution_count": 302,
   "metadata": {},
   "outputs": [
    {
     "output_type": "stream",
     "name": "stdout",
     "text": [
      "Accuracy: 0.831\n[[ 202  425]\n [  82 2291]]\n"
     ]
    }
   ],
   "source": [
    "print('Accuracy: %.3f'  % acc)\n",
    "cm = metrics.confusion_matrix(y_test,y_pred_values, labels=[1,0])\n",
    "print(cm)"
   ]
  },
  {
   "cell_type": "code",
   "execution_count": 303,
   "metadata": {},
   "outputs": [
    {
     "output_type": "execute_result",
     "data": {
      "text/plain": [
       "<AxesSubplot:>"
      ]
     },
     "metadata": {},
     "execution_count": 303
    },
    {
     "output_type": "display_data",
     "data": {
      "text/plain": "<Figure size 504x360 with 2 Axes>",
      "image/svg+xml": "<?xml version=\"1.0\" encoding=\"utf-8\" standalone=\"no\"?>\r\n<!DOCTYPE svg PUBLIC \"-//W3C//DTD SVG 1.1//EN\"\r\n  \"http://www.w3.org/Graphics/SVG/1.1/DTD/svg11.dtd\">\r\n<!-- Created with matplotlib (https://matplotlib.org/) -->\r\n<svg height=\"302.878125pt\" version=\"1.1\" viewBox=\"0 0 409.128125 302.878125\" width=\"409.128125pt\" xmlns=\"http://www.w3.org/2000/svg\" xmlns:xlink=\"http://www.w3.org/1999/xlink\">\r\n <metadata>\r\n  <rdf:RDF xmlns:cc=\"http://creativecommons.org/ns#\" xmlns:dc=\"http://purl.org/dc/elements/1.1/\" xmlns:rdf=\"http://www.w3.org/1999/02/22-rdf-syntax-ns#\">\r\n   <cc:Work>\r\n    <dc:type rdf:resource=\"http://purl.org/dc/dcmitype/StillImage\"/>\r\n    <dc:date>2020-10-17T00:53:05.529147</dc:date>\r\n    <dc:format>image/svg+xml</dc:format>\r\n    <dc:creator>\r\n     <cc:Agent>\r\n      <dc:title>Matplotlib v3.3.2, https://matplotlib.org/</dc:title>\r\n     </cc:Agent>\r\n    </dc:creator>\r\n   </cc:Work>\r\n  </rdf:RDF>\r\n </metadata>\r\n <defs>\r\n  <style type=\"text/css\">*{stroke-linecap:butt;stroke-linejoin:round;}</style>\r\n </defs>\r\n <g id=\"figure_1\">\r\n  <g id=\"patch_1\">\r\n   <path d=\"M 0 302.878125 \r\nL 409.128125 302.878125 \r\nL 409.128125 0 \r\nL 0 0 \r\nz\r\n\" style=\"fill:none;\"/>\r\n  </g>\r\n  <g id=\"axes_1\">\r\n   <g id=\"patch_2\">\r\n    <path d=\"M 23.878125 279 \r\nL 336.358125 279 \r\nL 336.358125 7.2 \r\nL 23.878125 7.2 \r\nz\r\n\" style=\"fill:#ffffff;\"/>\r\n   </g>\r\n   <g id=\"QuadMesh_1\">\r\n    <path clip-path=\"url(#p0cdcb1e0cc)\" d=\"M 23.878125 7.2 \r\nL 180.118125 7.2 \r\nL 180.118125 143.1 \r\nL 23.878125 143.1 \r\nL 23.878125 7.2 \r\n\" style=\"fill:#140e26;\"/>\r\n    <path clip-path=\"url(#p0cdcb1e0cc)\" d=\"M 180.118125 7.2 \r\nL 336.358125 7.2 \r\nL 336.358125 143.1 \r\nL 180.118125 143.1 \r\nL 180.118125 7.2 \r\n\" style=\"fill:#3a1a41;\"/>\r\n    <path clip-path=\"url(#p0cdcb1e0cc)\" d=\"M 23.878125 143.1 \r\nL 180.118125 143.1 \r\nL 180.118125 279 \r\nL 23.878125 279 \r\nL 23.878125 143.1 \r\n\" style=\"fill:#03051a;\"/>\r\n    <path clip-path=\"url(#p0cdcb1e0cc)\" d=\"M 180.118125 143.1 \r\nL 336.358125 143.1 \r\nL 336.358125 279 \r\nL 180.118125 279 \r\nL 180.118125 143.1 \r\n\" style=\"fill:#faebdd;\"/>\r\n   </g>\r\n   <g id=\"matplotlib.axis_1\">\r\n    <g id=\"xtick_1\">\r\n     <g id=\"line2d_1\">\r\n      <defs>\r\n       <path d=\"M 0 0 \r\nL 0 3.5 \r\n\" id=\"m75db699036\" style=\"stroke:#000000;stroke-width:0.8;\"/>\r\n      </defs>\r\n      <g>\r\n       <use style=\"stroke:#000000;stroke-width:0.8;\" x=\"101.998125\" xlink:href=\"#m75db699036\" y=\"279\"/>\r\n      </g>\r\n     </g>\r\n     <g id=\"text_1\">\r\n      <!-- Predict 1 -->\r\n      <g transform=\"translate(80.008281 293.598437)scale(0.1 -0.1)\">\r\n       <defs>\r\n        <path d=\"M 19.671875 64.796875 \r\nL 19.671875 37.40625 \r\nL 32.078125 37.40625 \r\nQ 38.96875 37.40625 42.71875 40.96875 \r\nQ 46.484375 44.53125 46.484375 51.125 \r\nQ 46.484375 57.671875 42.71875 61.234375 \r\nQ 38.96875 64.796875 32.078125 64.796875 \r\nz\r\nM 9.8125 72.90625 \r\nL 32.078125 72.90625 \r\nQ 44.34375 72.90625 50.609375 67.359375 \r\nQ 56.890625 61.8125 56.890625 51.125 \r\nQ 56.890625 40.328125 50.609375 34.8125 \r\nQ 44.34375 29.296875 32.078125 29.296875 \r\nL 19.671875 29.296875 \r\nL 19.671875 0 \r\nL 9.8125 0 \r\nz\r\n\" id=\"DejaVuSans-80\"/>\r\n        <path d=\"M 41.109375 46.296875 \r\nQ 39.59375 47.171875 37.8125 47.578125 \r\nQ 36.03125 48 33.890625 48 \r\nQ 26.265625 48 22.1875 43.046875 \r\nQ 18.109375 38.09375 18.109375 28.8125 \r\nL 18.109375 0 \r\nL 9.078125 0 \r\nL 9.078125 54.6875 \r\nL 18.109375 54.6875 \r\nL 18.109375 46.1875 \r\nQ 20.953125 51.171875 25.484375 53.578125 \r\nQ 30.03125 56 36.53125 56 \r\nQ 37.453125 56 38.578125 55.875 \r\nQ 39.703125 55.765625 41.0625 55.515625 \r\nz\r\n\" id=\"DejaVuSans-114\"/>\r\n        <path d=\"M 56.203125 29.59375 \r\nL 56.203125 25.203125 \r\nL 14.890625 25.203125 \r\nQ 15.484375 15.921875 20.484375 11.0625 \r\nQ 25.484375 6.203125 34.421875 6.203125 \r\nQ 39.59375 6.203125 44.453125 7.46875 \r\nQ 49.3125 8.734375 54.109375 11.28125 \r\nL 54.109375 2.78125 \r\nQ 49.265625 0.734375 44.1875 -0.34375 \r\nQ 39.109375 -1.421875 33.890625 -1.421875 \r\nQ 20.796875 -1.421875 13.15625 6.1875 \r\nQ 5.515625 13.8125 5.515625 26.8125 \r\nQ 5.515625 40.234375 12.765625 48.109375 \r\nQ 20.015625 56 32.328125 56 \r\nQ 43.359375 56 49.78125 48.890625 \r\nQ 56.203125 41.796875 56.203125 29.59375 \r\nz\r\nM 47.21875 32.234375 \r\nQ 47.125 39.59375 43.09375 43.984375 \r\nQ 39.0625 48.390625 32.421875 48.390625 \r\nQ 24.90625 48.390625 20.390625 44.140625 \r\nQ 15.875 39.890625 15.1875 32.171875 \r\nz\r\n\" id=\"DejaVuSans-101\"/>\r\n        <path d=\"M 45.40625 46.390625 \r\nL 45.40625 75.984375 \r\nL 54.390625 75.984375 \r\nL 54.390625 0 \r\nL 45.40625 0 \r\nL 45.40625 8.203125 \r\nQ 42.578125 3.328125 38.25 0.953125 \r\nQ 33.9375 -1.421875 27.875 -1.421875 \r\nQ 17.96875 -1.421875 11.734375 6.484375 \r\nQ 5.515625 14.40625 5.515625 27.296875 \r\nQ 5.515625 40.1875 11.734375 48.09375 \r\nQ 17.96875 56 27.875 56 \r\nQ 33.9375 56 38.25 53.625 \r\nQ 42.578125 51.265625 45.40625 46.390625 \r\nz\r\nM 14.796875 27.296875 \r\nQ 14.796875 17.390625 18.875 11.75 \r\nQ 22.953125 6.109375 30.078125 6.109375 \r\nQ 37.203125 6.109375 41.296875 11.75 \r\nQ 45.40625 17.390625 45.40625 27.296875 \r\nQ 45.40625 37.203125 41.296875 42.84375 \r\nQ 37.203125 48.484375 30.078125 48.484375 \r\nQ 22.953125 48.484375 18.875 42.84375 \r\nQ 14.796875 37.203125 14.796875 27.296875 \r\nz\r\n\" id=\"DejaVuSans-100\"/>\r\n        <path d=\"M 9.421875 54.6875 \r\nL 18.40625 54.6875 \r\nL 18.40625 0 \r\nL 9.421875 0 \r\nz\r\nM 9.421875 75.984375 \r\nL 18.40625 75.984375 \r\nL 18.40625 64.59375 \r\nL 9.421875 64.59375 \r\nz\r\n\" id=\"DejaVuSans-105\"/>\r\n        <path d=\"M 48.78125 52.59375 \r\nL 48.78125 44.1875 \r\nQ 44.96875 46.296875 41.140625 47.34375 \r\nQ 37.3125 48.390625 33.40625 48.390625 \r\nQ 24.65625 48.390625 19.8125 42.84375 \r\nQ 14.984375 37.3125 14.984375 27.296875 \r\nQ 14.984375 17.28125 19.8125 11.734375 \r\nQ 24.65625 6.203125 33.40625 6.203125 \r\nQ 37.3125 6.203125 41.140625 7.25 \r\nQ 44.96875 8.296875 48.78125 10.40625 \r\nL 48.78125 2.09375 \r\nQ 45.015625 0.34375 40.984375 -0.53125 \r\nQ 36.96875 -1.421875 32.421875 -1.421875 \r\nQ 20.0625 -1.421875 12.78125 6.34375 \r\nQ 5.515625 14.109375 5.515625 27.296875 \r\nQ 5.515625 40.671875 12.859375 48.328125 \r\nQ 20.21875 56 33.015625 56 \r\nQ 37.15625 56 41.109375 55.140625 \r\nQ 45.0625 54.296875 48.78125 52.59375 \r\nz\r\n\" id=\"DejaVuSans-99\"/>\r\n        <path d=\"M 18.3125 70.21875 \r\nL 18.3125 54.6875 \r\nL 36.8125 54.6875 \r\nL 36.8125 47.703125 \r\nL 18.3125 47.703125 \r\nL 18.3125 18.015625 \r\nQ 18.3125 11.328125 20.140625 9.421875 \r\nQ 21.96875 7.515625 27.59375 7.515625 \r\nL 36.8125 7.515625 \r\nL 36.8125 0 \r\nL 27.59375 0 \r\nQ 17.1875 0 13.234375 3.875 \r\nQ 9.28125 7.765625 9.28125 18.015625 \r\nL 9.28125 47.703125 \r\nL 2.6875 47.703125 \r\nL 2.6875 54.6875 \r\nL 9.28125 54.6875 \r\nL 9.28125 70.21875 \r\nz\r\n\" id=\"DejaVuSans-116\"/>\r\n        <path id=\"DejaVuSans-32\"/>\r\n        <path d=\"M 12.40625 8.296875 \r\nL 28.515625 8.296875 \r\nL 28.515625 63.921875 \r\nL 10.984375 60.40625 \r\nL 10.984375 69.390625 \r\nL 28.421875 72.90625 \r\nL 38.28125 72.90625 \r\nL 38.28125 8.296875 \r\nL 54.390625 8.296875 \r\nL 54.390625 0 \r\nL 12.40625 0 \r\nz\r\n\" id=\"DejaVuSans-49\"/>\r\n       </defs>\r\n       <use xlink:href=\"#DejaVuSans-80\"/>\r\n       <use x=\"58.552734\" xlink:href=\"#DejaVuSans-114\"/>\r\n       <use x=\"97.416016\" xlink:href=\"#DejaVuSans-101\"/>\r\n       <use x=\"158.939453\" xlink:href=\"#DejaVuSans-100\"/>\r\n       <use x=\"222.416016\" xlink:href=\"#DejaVuSans-105\"/>\r\n       <use x=\"250.199219\" xlink:href=\"#DejaVuSans-99\"/>\r\n       <use x=\"305.179688\" xlink:href=\"#DejaVuSans-116\"/>\r\n       <use x=\"344.388672\" xlink:href=\"#DejaVuSans-32\"/>\r\n       <use x=\"376.175781\" xlink:href=\"#DejaVuSans-49\"/>\r\n      </g>\r\n     </g>\r\n    </g>\r\n    <g id=\"xtick_2\">\r\n     <g id=\"line2d_2\">\r\n      <g>\r\n       <use style=\"stroke:#000000;stroke-width:0.8;\" x=\"258.238125\" xlink:href=\"#m75db699036\" y=\"279\"/>\r\n      </g>\r\n     </g>\r\n     <g id=\"text_2\">\r\n      <!-- Predict 0 -->\r\n      <g transform=\"translate(236.248281 293.598437)scale(0.1 -0.1)\">\r\n       <defs>\r\n        <path d=\"M 31.78125 66.40625 \r\nQ 24.171875 66.40625 20.328125 58.90625 \r\nQ 16.5 51.421875 16.5 36.375 \r\nQ 16.5 21.390625 20.328125 13.890625 \r\nQ 24.171875 6.390625 31.78125 6.390625 \r\nQ 39.453125 6.390625 43.28125 13.890625 \r\nQ 47.125 21.390625 47.125 36.375 \r\nQ 47.125 51.421875 43.28125 58.90625 \r\nQ 39.453125 66.40625 31.78125 66.40625 \r\nz\r\nM 31.78125 74.21875 \r\nQ 44.046875 74.21875 50.515625 64.515625 \r\nQ 56.984375 54.828125 56.984375 36.375 \r\nQ 56.984375 17.96875 50.515625 8.265625 \r\nQ 44.046875 -1.421875 31.78125 -1.421875 \r\nQ 19.53125 -1.421875 13.0625 8.265625 \r\nQ 6.59375 17.96875 6.59375 36.375 \r\nQ 6.59375 54.828125 13.0625 64.515625 \r\nQ 19.53125 74.21875 31.78125 74.21875 \r\nz\r\n\" id=\"DejaVuSans-48\"/>\r\n       </defs>\r\n       <use xlink:href=\"#DejaVuSans-80\"/>\r\n       <use x=\"58.552734\" xlink:href=\"#DejaVuSans-114\"/>\r\n       <use x=\"97.416016\" xlink:href=\"#DejaVuSans-101\"/>\r\n       <use x=\"158.939453\" xlink:href=\"#DejaVuSans-100\"/>\r\n       <use x=\"222.416016\" xlink:href=\"#DejaVuSans-105\"/>\r\n       <use x=\"250.199219\" xlink:href=\"#DejaVuSans-99\"/>\r\n       <use x=\"305.179688\" xlink:href=\"#DejaVuSans-116\"/>\r\n       <use x=\"344.388672\" xlink:href=\"#DejaVuSans-32\"/>\r\n       <use x=\"376.175781\" xlink:href=\"#DejaVuSans-48\"/>\r\n      </g>\r\n     </g>\r\n    </g>\r\n   </g>\r\n   <g id=\"matplotlib.axis_2\">\r\n    <g id=\"ytick_1\">\r\n     <g id=\"line2d_3\">\r\n      <defs>\r\n       <path d=\"M 0 0 \r\nL -3.5 0 \r\n\" id=\"m2d6c112a2a\" style=\"stroke:#000000;stroke-width:0.8;\"/>\r\n      </defs>\r\n      <g>\r\n       <use style=\"stroke:#000000;stroke-width:0.8;\" x=\"23.878125\" xlink:href=\"#m2d6c112a2a\" y=\"75.15\"/>\r\n      </g>\r\n     </g>\r\n     <g id=\"text_3\">\r\n      <!-- 1 -->\r\n      <g transform=\"translate(14.798438 77.713281)rotate(-90)scale(0.1 -0.1)\">\r\n       <use xlink:href=\"#DejaVuSans-49\"/>\r\n      </g>\r\n     </g>\r\n    </g>\r\n    <g id=\"ytick_2\">\r\n     <g id=\"line2d_4\">\r\n      <g>\r\n       <use style=\"stroke:#000000;stroke-width:0.8;\" x=\"23.878125\" xlink:href=\"#m2d6c112a2a\" y=\"211.05\"/>\r\n      </g>\r\n     </g>\r\n     <g id=\"text_4\">\r\n      <!-- 0 -->\r\n      <g transform=\"translate(14.798438 213.613281)rotate(-90)scale(0.1 -0.1)\">\r\n       <use xlink:href=\"#DejaVuSans-48\"/>\r\n      </g>\r\n     </g>\r\n    </g>\r\n   </g>\r\n   <g id=\"text_5\">\r\n    <!-- 2e+02 -->\r\n    <g style=\"fill:#ffffff;\" transform=\"translate(85.187969 77.909375)scale(0.1 -0.1)\">\r\n     <defs>\r\n      <path d=\"M 19.1875 8.296875 \r\nL 53.609375 8.296875 \r\nL 53.609375 0 \r\nL 7.328125 0 \r\nL 7.328125 8.296875 \r\nQ 12.9375 14.109375 22.625 23.890625 \r\nQ 32.328125 33.6875 34.8125 36.53125 \r\nQ 39.546875 41.84375 41.421875 45.53125 \r\nQ 43.3125 49.21875 43.3125 52.78125 \r\nQ 43.3125 58.59375 39.234375 62.25 \r\nQ 35.15625 65.921875 28.609375 65.921875 \r\nQ 23.96875 65.921875 18.8125 64.3125 \r\nQ 13.671875 62.703125 7.8125 59.421875 \r\nL 7.8125 69.390625 \r\nQ 13.765625 71.78125 18.9375 73 \r\nQ 24.125 74.21875 28.421875 74.21875 \r\nQ 39.75 74.21875 46.484375 68.546875 \r\nQ 53.21875 62.890625 53.21875 53.421875 \r\nQ 53.21875 48.921875 51.53125 44.890625 \r\nQ 49.859375 40.875 45.40625 35.40625 \r\nQ 44.1875 33.984375 37.640625 27.21875 \r\nQ 31.109375 20.453125 19.1875 8.296875 \r\nz\r\n\" id=\"DejaVuSans-50\"/>\r\n      <path d=\"M 46 62.703125 \r\nL 46 35.5 \r\nL 73.1875 35.5 \r\nL 73.1875 27.203125 \r\nL 46 27.203125 \r\nL 46 0 \r\nL 37.796875 0 \r\nL 37.796875 27.203125 \r\nL 10.59375 27.203125 \r\nL 10.59375 35.5 \r\nL 37.796875 35.5 \r\nL 37.796875 62.703125 \r\nz\r\n\" id=\"DejaVuSans-43\"/>\r\n     </defs>\r\n     <use xlink:href=\"#DejaVuSans-50\"/>\r\n     <use x=\"63.623047\" xlink:href=\"#DejaVuSans-101\"/>\r\n     <use x=\"125.146484\" xlink:href=\"#DejaVuSans-43\"/>\r\n     <use x=\"208.935547\" xlink:href=\"#DejaVuSans-48\"/>\r\n     <use x=\"272.558594\" xlink:href=\"#DejaVuSans-50\"/>\r\n    </g>\r\n   </g>\r\n   <g id=\"text_6\">\r\n    <!-- 4.2e+02 -->\r\n    <g style=\"fill:#ffffff;\" transform=\"translate(236.657656 77.909375)scale(0.1 -0.1)\">\r\n     <defs>\r\n      <path d=\"M 37.796875 64.3125 \r\nL 12.890625 25.390625 \r\nL 37.796875 25.390625 \r\nz\r\nM 35.203125 72.90625 \r\nL 47.609375 72.90625 \r\nL 47.609375 25.390625 \r\nL 58.015625 25.390625 \r\nL 58.015625 17.1875 \r\nL 47.609375 17.1875 \r\nL 47.609375 0 \r\nL 37.796875 0 \r\nL 37.796875 17.1875 \r\nL 4.890625 17.1875 \r\nL 4.890625 26.703125 \r\nz\r\n\" id=\"DejaVuSans-52\"/>\r\n      <path d=\"M 10.6875 12.40625 \r\nL 21 12.40625 \r\nL 21 0 \r\nL 10.6875 0 \r\nz\r\n\" id=\"DejaVuSans-46\"/>\r\n     </defs>\r\n     <use xlink:href=\"#DejaVuSans-52\"/>\r\n     <use x=\"63.623047\" xlink:href=\"#DejaVuSans-46\"/>\r\n     <use x=\"95.410156\" xlink:href=\"#DejaVuSans-50\"/>\r\n     <use x=\"159.033203\" xlink:href=\"#DejaVuSans-101\"/>\r\n     <use x=\"220.556641\" xlink:href=\"#DejaVuSans-43\"/>\r\n     <use x=\"304.345703\" xlink:href=\"#DejaVuSans-48\"/>\r\n     <use x=\"367.96875\" xlink:href=\"#DejaVuSans-50\"/>\r\n    </g>\r\n   </g>\r\n   <g id=\"text_7\">\r\n    <!-- 82 -->\r\n    <g style=\"fill:#ffffff;\" transform=\"translate(95.635625 213.809375)scale(0.1 -0.1)\">\r\n     <defs>\r\n      <path d=\"M 31.78125 34.625 \r\nQ 24.75 34.625 20.71875 30.859375 \r\nQ 16.703125 27.09375 16.703125 20.515625 \r\nQ 16.703125 13.921875 20.71875 10.15625 \r\nQ 24.75 6.390625 31.78125 6.390625 \r\nQ 38.8125 6.390625 42.859375 10.171875 \r\nQ 46.921875 13.96875 46.921875 20.515625 \r\nQ 46.921875 27.09375 42.890625 30.859375 \r\nQ 38.875 34.625 31.78125 34.625 \r\nz\r\nM 21.921875 38.8125 \r\nQ 15.578125 40.375 12.03125 44.71875 \r\nQ 8.5 49.078125 8.5 55.328125 \r\nQ 8.5 64.0625 14.71875 69.140625 \r\nQ 20.953125 74.21875 31.78125 74.21875 \r\nQ 42.671875 74.21875 48.875 69.140625 \r\nQ 55.078125 64.0625 55.078125 55.328125 \r\nQ 55.078125 49.078125 51.53125 44.71875 \r\nQ 48 40.375 41.703125 38.8125 \r\nQ 48.828125 37.15625 52.796875 32.3125 \r\nQ 56.78125 27.484375 56.78125 20.515625 \r\nQ 56.78125 9.90625 50.3125 4.234375 \r\nQ 43.84375 -1.421875 31.78125 -1.421875 \r\nQ 19.734375 -1.421875 13.25 4.234375 \r\nQ 6.78125 9.90625 6.78125 20.515625 \r\nQ 6.78125 27.484375 10.78125 32.3125 \r\nQ 14.796875 37.15625 21.921875 38.8125 \r\nz\r\nM 18.3125 54.390625 \r\nQ 18.3125 48.734375 21.84375 45.5625 \r\nQ 25.390625 42.390625 31.78125 42.390625 \r\nQ 38.140625 42.390625 41.71875 45.5625 \r\nQ 45.3125 48.734375 45.3125 54.390625 \r\nQ 45.3125 60.0625 41.71875 63.234375 \r\nQ 38.140625 66.40625 31.78125 66.40625 \r\nQ 25.390625 66.40625 21.84375 63.234375 \r\nQ 18.3125 60.0625 18.3125 54.390625 \r\nz\r\n\" id=\"DejaVuSans-56\"/>\r\n     </defs>\r\n     <use xlink:href=\"#DejaVuSans-56\"/>\r\n     <use x=\"63.623047\" xlink:href=\"#DejaVuSans-50\"/>\r\n    </g>\r\n   </g>\r\n   <g id=\"text_8\">\r\n    <!-- 2.3e+03 -->\r\n    <g style=\"fill:#262626;\" transform=\"translate(236.657656 213.809375)scale(0.1 -0.1)\">\r\n     <defs>\r\n      <path d=\"M 40.578125 39.3125 \r\nQ 47.65625 37.796875 51.625 33 \r\nQ 55.609375 28.21875 55.609375 21.1875 \r\nQ 55.609375 10.40625 48.1875 4.484375 \r\nQ 40.765625 -1.421875 27.09375 -1.421875 \r\nQ 22.515625 -1.421875 17.65625 -0.515625 \r\nQ 12.796875 0.390625 7.625 2.203125 \r\nL 7.625 11.71875 \r\nQ 11.71875 9.328125 16.59375 8.109375 \r\nQ 21.484375 6.890625 26.8125 6.890625 \r\nQ 36.078125 6.890625 40.9375 10.546875 \r\nQ 45.796875 14.203125 45.796875 21.1875 \r\nQ 45.796875 27.640625 41.28125 31.265625 \r\nQ 36.765625 34.90625 28.71875 34.90625 \r\nL 20.21875 34.90625 \r\nL 20.21875 43.015625 \r\nL 29.109375 43.015625 \r\nQ 36.375 43.015625 40.234375 45.921875 \r\nQ 44.09375 48.828125 44.09375 54.296875 \r\nQ 44.09375 59.90625 40.109375 62.90625 \r\nQ 36.140625 65.921875 28.71875 65.921875 \r\nQ 24.65625 65.921875 20.015625 65.03125 \r\nQ 15.375 64.15625 9.8125 62.3125 \r\nL 9.8125 71.09375 \r\nQ 15.4375 72.65625 20.34375 73.4375 \r\nQ 25.25 74.21875 29.59375 74.21875 \r\nQ 40.828125 74.21875 47.359375 69.109375 \r\nQ 53.90625 64.015625 53.90625 55.328125 \r\nQ 53.90625 49.265625 50.4375 45.09375 \r\nQ 46.96875 40.921875 40.578125 39.3125 \r\nz\r\n\" id=\"DejaVuSans-51\"/>\r\n     </defs>\r\n     <use xlink:href=\"#DejaVuSans-50\"/>\r\n     <use x=\"63.623047\" xlink:href=\"#DejaVuSans-46\"/>\r\n     <use x=\"95.410156\" xlink:href=\"#DejaVuSans-51\"/>\r\n     <use x=\"159.033203\" xlink:href=\"#DejaVuSans-101\"/>\r\n     <use x=\"220.556641\" xlink:href=\"#DejaVuSans-43\"/>\r\n     <use x=\"304.345703\" xlink:href=\"#DejaVuSans-48\"/>\r\n     <use x=\"367.96875\" xlink:href=\"#DejaVuSans-51\"/>\r\n    </g>\r\n   </g>\r\n  </g>\r\n  <g id=\"axes_2\">\r\n   <g id=\"patch_3\">\r\n    <path clip-path=\"url(#pbc115799f3)\" d=\"M 355.888125 279 \r\nL 355.888125 277.938281 \r\nL 355.888125 8.261719 \r\nL 355.888125 7.2 \r\nL 369.478125 7.2 \r\nL 369.478125 8.261719 \r\nL 369.478125 277.938281 \r\nL 369.478125 279 \r\nz\r\n\" style=\"fill:#ffffff;stroke:#ffffff;stroke-linejoin:miter;stroke-width:0.01;\"/>\r\n   </g>\r\n   <image height=\"272\" id=\"imaged20001e7ca\" transform=\"scale(1 -1)translate(0 -272)\" width=\"13\" x=\"356\" xlink:href=\"data:image/png;base64,\r\niVBORw0KGgoAAAANSUhEUgAAAA0AAAEQCAYAAABr1P6NAAABYElEQVR4nO2bOw7CQAxEvUu4BPe/JxRQ0PpFehpZu/1oPh4nEMK6nq93Nc/uAqqqrrWWBSqLaWvyGBPyFJ5etqfs4bLNFRvBmPq2zDkdJp0purDm7XNeelBeG3IK+8fEPPVP/BJqQZiN6B+x5eHyvAuLGYTERD+OIpA23OjIKRMAmUEA0Eh57Wc56hLCIBDIW3cCAnNS0yOggZ4W8aTJg5sbPidRXp+KyRMvlm/iiTCFR74QU5/IvX16w0VMBAR6ZAYB7gDXJiD4RZIweZ7QcAETXMJoT1AeuFpCT4zJC6KNgfLSI7fkwUeqzBNh8mqkeSrRkwUiRRrKZD1S1eQxpiJMM+VZIPRTkievNnjnI3tOcHPJyy9ijbQ5mUHM83Tm9D10Cb0ahc+JvIqXLY+BvEbMC4J+hvU8HaYbTOHyBjKt9WiDzhLeZOpHnu6J1OgM9w6TuIToXxQDIz/p/Q7q3gfkii3d/M/vjwAAAABJRU5ErkJggg==\" y=\"-6\"/>\r\n   <g id=\"matplotlib.axis_3\"/>\r\n   <g id=\"matplotlib.axis_4\">\r\n    <g id=\"ytick_3\">\r\n     <g id=\"line2d_5\">\r\n      <defs>\r\n       <path d=\"M 0 0 \r\nL 3.5 0 \r\n\" id=\"mdb1f6b300f\" style=\"stroke:#000000;stroke-width:0.8;\"/>\r\n      </defs>\r\n      <g>\r\n       <use style=\"stroke:#000000;stroke-width:0.8;\" x=\"369.478125\" xlink:href=\"#mdb1f6b300f\" y=\"258.328927\"/>\r\n      </g>\r\n     </g>\r\n     <g id=\"text_9\">\r\n      <!-- 250 -->\r\n      <g transform=\"translate(376.478125 262.128146)scale(0.1 -0.1)\">\r\n       <defs>\r\n        <path d=\"M 10.796875 72.90625 \r\nL 49.515625 72.90625 \r\nL 49.515625 64.59375 \r\nL 19.828125 64.59375 \r\nL 19.828125 46.734375 \r\nQ 21.96875 47.46875 24.109375 47.828125 \r\nQ 26.265625 48.1875 28.421875 48.1875 \r\nQ 40.625 48.1875 47.75 41.5 \r\nQ 54.890625 34.8125 54.890625 23.390625 \r\nQ 54.890625 11.625 47.5625 5.09375 \r\nQ 40.234375 -1.421875 26.90625 -1.421875 \r\nQ 22.3125 -1.421875 17.546875 -0.640625 \r\nQ 12.796875 0.140625 7.71875 1.703125 \r\nL 7.71875 11.625 \r\nQ 12.109375 9.234375 16.796875 8.0625 \r\nQ 21.484375 6.890625 26.703125 6.890625 \r\nQ 35.15625 6.890625 40.078125 11.328125 \r\nQ 45.015625 15.765625 45.015625 23.390625 \r\nQ 45.015625 31 40.078125 35.4375 \r\nQ 35.15625 39.890625 26.703125 39.890625 \r\nQ 22.75 39.890625 18.8125 39.015625 \r\nQ 14.890625 38.140625 10.796875 36.28125 \r\nz\r\n\" id=\"DejaVuSans-53\"/>\r\n       </defs>\r\n       <use xlink:href=\"#DejaVuSans-50\"/>\r\n       <use x=\"63.623047\" xlink:href=\"#DejaVuSans-53\"/>\r\n       <use x=\"127.246094\" xlink:href=\"#DejaVuSans-48\"/>\r\n      </g>\r\n     </g>\r\n    </g>\r\n    <g id=\"ytick_4\">\r\n     <g id=\"line2d_6\">\r\n      <g>\r\n       <use style=\"stroke:#000000;stroke-width:0.8;\" x=\"369.478125\" xlink:href=\"#mdb1f6b300f\" y=\"227.568402\"/>\r\n      </g>\r\n     </g>\r\n     <g id=\"text_10\">\r\n      <!-- 500 -->\r\n      <g transform=\"translate(376.478125 231.367621)scale(0.1 -0.1)\">\r\n       <use xlink:href=\"#DejaVuSans-53\"/>\r\n       <use x=\"63.623047\" xlink:href=\"#DejaVuSans-48\"/>\r\n       <use x=\"127.246094\" xlink:href=\"#DejaVuSans-48\"/>\r\n      </g>\r\n     </g>\r\n    </g>\r\n    <g id=\"ytick_5\">\r\n     <g id=\"line2d_7\">\r\n      <g>\r\n       <use style=\"stroke:#000000;stroke-width:0.8;\" x=\"369.478125\" xlink:href=\"#mdb1f6b300f\" y=\"196.807877\"/>\r\n      </g>\r\n     </g>\r\n     <g id=\"text_11\">\r\n      <!-- 750 -->\r\n      <g transform=\"translate(376.478125 200.607096)scale(0.1 -0.1)\">\r\n       <defs>\r\n        <path d=\"M 8.203125 72.90625 \r\nL 55.078125 72.90625 \r\nL 55.078125 68.703125 \r\nL 28.609375 0 \r\nL 18.3125 0 \r\nL 43.21875 64.59375 \r\nL 8.203125 64.59375 \r\nz\r\n\" id=\"DejaVuSans-55\"/>\r\n       </defs>\r\n       <use xlink:href=\"#DejaVuSans-55\"/>\r\n       <use x=\"63.623047\" xlink:href=\"#DejaVuSans-53\"/>\r\n       <use x=\"127.246094\" xlink:href=\"#DejaVuSans-48\"/>\r\n      </g>\r\n     </g>\r\n    </g>\r\n    <g id=\"ytick_6\">\r\n     <g id=\"line2d_8\">\r\n      <g>\r\n       <use style=\"stroke:#000000;stroke-width:0.8;\" x=\"369.478125\" xlink:href=\"#mdb1f6b300f\" y=\"166.047352\"/>\r\n      </g>\r\n     </g>\r\n     <g id=\"text_12\">\r\n      <!-- 1000 -->\r\n      <g transform=\"translate(376.478125 169.84657)scale(0.1 -0.1)\">\r\n       <use xlink:href=\"#DejaVuSans-49\"/>\r\n       <use x=\"63.623047\" xlink:href=\"#DejaVuSans-48\"/>\r\n       <use x=\"127.246094\" xlink:href=\"#DejaVuSans-48\"/>\r\n       <use x=\"190.869141\" xlink:href=\"#DejaVuSans-48\"/>\r\n      </g>\r\n     </g>\r\n    </g>\r\n    <g id=\"ytick_7\">\r\n     <g id=\"line2d_9\">\r\n      <g>\r\n       <use style=\"stroke:#000000;stroke-width:0.8;\" x=\"369.478125\" xlink:href=\"#mdb1f6b300f\" y=\"135.286827\"/>\r\n      </g>\r\n     </g>\r\n     <g id=\"text_13\">\r\n      <!-- 1250 -->\r\n      <g transform=\"translate(376.478125 139.086045)scale(0.1 -0.1)\">\r\n       <use xlink:href=\"#DejaVuSans-49\"/>\r\n       <use x=\"63.623047\" xlink:href=\"#DejaVuSans-50\"/>\r\n       <use x=\"127.246094\" xlink:href=\"#DejaVuSans-53\"/>\r\n       <use x=\"190.869141\" xlink:href=\"#DejaVuSans-48\"/>\r\n      </g>\r\n     </g>\r\n    </g>\r\n    <g id=\"ytick_8\">\r\n     <g id=\"line2d_10\">\r\n      <g>\r\n       <use style=\"stroke:#000000;stroke-width:0.8;\" x=\"369.478125\" xlink:href=\"#mdb1f6b300f\" y=\"104.526301\"/>\r\n      </g>\r\n     </g>\r\n     <g id=\"text_14\">\r\n      <!-- 1500 -->\r\n      <g transform=\"translate(376.478125 108.32552)scale(0.1 -0.1)\">\r\n       <use xlink:href=\"#DejaVuSans-49\"/>\r\n       <use x=\"63.623047\" xlink:href=\"#DejaVuSans-53\"/>\r\n       <use x=\"127.246094\" xlink:href=\"#DejaVuSans-48\"/>\r\n       <use x=\"190.869141\" xlink:href=\"#DejaVuSans-48\"/>\r\n      </g>\r\n     </g>\r\n    </g>\r\n    <g id=\"ytick_9\">\r\n     <g id=\"line2d_11\">\r\n      <g>\r\n       <use style=\"stroke:#000000;stroke-width:0.8;\" x=\"369.478125\" xlink:href=\"#mdb1f6b300f\" y=\"73.765776\"/>\r\n      </g>\r\n     </g>\r\n     <g id=\"text_15\">\r\n      <!-- 1750 -->\r\n      <g transform=\"translate(376.478125 77.564995)scale(0.1 -0.1)\">\r\n       <use xlink:href=\"#DejaVuSans-49\"/>\r\n       <use x=\"63.623047\" xlink:href=\"#DejaVuSans-55\"/>\r\n       <use x=\"127.246094\" xlink:href=\"#DejaVuSans-53\"/>\r\n       <use x=\"190.869141\" xlink:href=\"#DejaVuSans-48\"/>\r\n      </g>\r\n     </g>\r\n    </g>\r\n    <g id=\"ytick_10\">\r\n     <g id=\"line2d_12\">\r\n      <g>\r\n       <use style=\"stroke:#000000;stroke-width:0.8;\" x=\"369.478125\" xlink:href=\"#mdb1f6b300f\" y=\"43.005251\"/>\r\n      </g>\r\n     </g>\r\n     <g id=\"text_16\">\r\n      <!-- 2000 -->\r\n      <g transform=\"translate(376.478125 46.80447)scale(0.1 -0.1)\">\r\n       <use xlink:href=\"#DejaVuSans-50\"/>\r\n       <use x=\"63.623047\" xlink:href=\"#DejaVuSans-48\"/>\r\n       <use x=\"127.246094\" xlink:href=\"#DejaVuSans-48\"/>\r\n       <use x=\"190.869141\" xlink:href=\"#DejaVuSans-48\"/>\r\n      </g>\r\n     </g>\r\n    </g>\r\n    <g id=\"ytick_11\">\r\n     <g id=\"line2d_13\">\r\n      <g>\r\n       <use style=\"stroke:#000000;stroke-width:0.8;\" x=\"369.478125\" xlink:href=\"#mdb1f6b300f\" y=\"12.244726\"/>\r\n      </g>\r\n     </g>\r\n     <g id=\"text_17\">\r\n      <!-- 2250 -->\r\n      <g transform=\"translate(376.478125 16.043945)scale(0.1 -0.1)\">\r\n       <use xlink:href=\"#DejaVuSans-50\"/>\r\n       <use x=\"63.623047\" xlink:href=\"#DejaVuSans-50\"/>\r\n       <use x=\"127.246094\" xlink:href=\"#DejaVuSans-53\"/>\r\n       <use x=\"190.869141\" xlink:href=\"#DejaVuSans-48\"/>\r\n      </g>\r\n     </g>\r\n    </g>\r\n   </g>\r\n   <g id=\"patch_4\">\r\n    <path d=\"M 355.888125 279 \r\nL 355.888125 277.938281 \r\nL 355.888125 8.261719 \r\nL 355.888125 7.2 \r\nL 369.478125 7.2 \r\nL 369.478125 8.261719 \r\nL 369.478125 277.938281 \r\nL 369.478125 279 \r\nz\r\n\" style=\"fill:none;\"/>\r\n   </g>\r\n  </g>\r\n </g>\r\n <defs>\r\n  <clipPath id=\"p0cdcb1e0cc\">\r\n   <rect height=\"271.8\" width=\"312.48\" x=\"23.878125\" y=\"7.2\"/>\r\n  </clipPath>\r\n  <clipPath id=\"pbc115799f3\">\r\n   <rect height=\"271.8\" width=\"13.59\" x=\"355.888125\" y=\"7.2\"/>\r\n  </clipPath>\r\n </defs>\r\n</svg>\r\n",
      "image/png": "[encoded data removed]"
     },
     "metadata": {
      "needs_background": "light"
     }
    }
   ],
   "source": [
    "df_cm = pd.DataFrame(cm, index = [i for i in [\"1\",\"0\"]],\n",
    "                    columns = [i for i in [\"Predict 1\",\"Predict 0\"]])\n",
    "                    \n",
    "TP = df_cm['Predict 1'][0]\n",
    "FP = df_cm['Predict 1'][1]\n",
    "FN = df_cm['Predict 0'][0]\n",
    "TN = df_cm['Predict 0'][1]   \n",
    "\n",
    "accuracy = (TP + TN)/(TP+TN+FP+FN)\n",
    "recall = (TP)/(TP+FN)\n",
    "precision = (TP)/(TP+FP)\n",
    "\n",
    "plt.figure(figsize = (7,5))\n",
    "sns.heatmap(df_cm, annot=True)"
   ]
  },
  {
   "cell_type": "code",
   "execution_count": 304,
   "metadata": {},
   "outputs": [
    {
     "output_type": "stream",
     "name": "stdout",
     "text": [
      "Accuracy: 0.831\nPrecision: 0.32216905901116427\nRecall: 0.7112676056338029\nF1 Score:  0.2217343578485181\n"
     ]
    }
   ],
   "source": [
    "print(\"Accuracy:\", accuracy)\n",
    "print(\"Precision:\", recall)                 \n",
    "print(\"Recall:\", precision)\n",
    "print(\"F1 Score: \", (precision * recall)/(precision + recall))"
   ]
  }
 ],
 "metadata": {
  "kernelspec": {
   "name": "Python 3.8.6 64-bit ('venv')",
   "display_name": "Python 3.8.6 64-bit ('venv')",
   "metadata": {
    "interpreter": {
     "hash": "c5d65ee92e7efdf082bc76a0ec7d64b8ad2e30fa4458ee0d330ff3033a8d34f4"
    }
   }
  },
  "language_info": {
   "codemirror_mode": {
    "name": "ipython",
    "version": 2
   },
   "file_extension": ".py",
   "mimetype": "text/x-python",
   "name": "python",
   "nbconvert_exporter": "python",
   "pygments_lexer": "ipython2",
   "version": "3.8.6-final"
  }
 },
 "nbformat": 4,
 "nbformat_minor": 0
}