{
 "cells": [
  {
   "cell_type": "markdown",
   "metadata": {
    "colab_type": "text",
    "id": "QJ3FsuIkOT-d"
   },
   "source": [
    "# Practice Exercise - Intro to NN Week 1\n",
    "## A MNIST-like fashion product database\n",
    "\n",
    "Hello learners, welcome to the practice exercise on week 1 of Intro to NN module.<br>\n",
    "Before we start with the hands-on, please note that <b>we recommend</b> using <a href = \"https://colab.research.google.com/notebooks/intro.ipynb#recent=true\"> google colab</a> for all your course hands-on exercises.\n",
    "\n",
    "In this practice exercise, we classify the images into respective classes given in the dataset. We use a Deep Neural Net in Keras to solve this and check the accuracy scores.\n",
    "\n",
    "<b>Dataset to be used</b>: tf.keras.datasets.fashion_mnist"
   ]
  },
  {
   "cell_type": "markdown",
   "metadata": {
    "colab_type": "text",
    "id": "HvUohxCpOT-f"
   },
   "source": [
    "## Load tensorflow and check the version\n",
    "Make sure you are using tensorflow 2.0. In case you are not, please install tensorflow 2.0 using <i>! pip install tensorflow==2.0</i>\n"
   ]
  },
  {
   "cell_type": "markdown",
   "metadata": {
    "colab_type": "text",
    "id": "pibEX_Y7OT-o"
   },
   "source": [
    "## Collect Data"
   ]
  },
  {
   "cell_type": "code",
   "execution_count": null,
   "metadata": {},
   "outputs": [],
   "source": []
  },
  {
   "cell_type": "markdown",
   "metadata": {
    "colab_type": "text",
    "id": "aAsqvxY3OT-5"
   },
   "source": [
    "## Convert both training and testing labels into one-hot vectors."
   ]
  },
  {
   "cell_type": "markdown",
   "metadata": {
    "colab_type": "text",
    "id": "obwm3svROT-6"
   },
   "source": [
    "Hint: check tf.keras.utils.to_categorical()"
   ]
  },
  {
   "cell_type": "code",
   "execution_count": null,
   "metadata": {},
   "outputs": [],
   "source": []
  },
  {
   "cell_type": "markdown",
   "metadata": {
    "colab_type": "text",
    "id": "Fw99Yn3ZOT_B"
   },
   "source": [
    "## Visualize the data\n",
    "Plot first 10 images in the triaining set and their labels."
   ]
  },
  {
   "cell_type": "code",
   "execution_count": null,
   "metadata": {},
   "outputs": [],
   "source": []
  },
  {
   "cell_type": "markdown",
   "metadata": {
    "colab_type": "text",
    "id": "1A5KWzG4OT_F"
   },
   "source": [
    "## Build a neural network in Keras using a sequential model. The output layer should have 10 neurons as we have 10 classes.\n"
   ]
  },
  {
   "cell_type": "code",
   "execution_count": null,
   "metadata": {},
   "outputs": [],
   "source": []
  },
  {
   "cell_type": "markdown",
   "metadata": {
    "colab_type": "text",
    "id": "kREobB5KOT_Q"
   },
   "source": [
    "### Execute the model using model.fit()"
   ]
  },
  {
   "cell_type": "code",
   "execution_count": null,
   "metadata": {},
   "outputs": [],
   "source": []
  },
  {
   "cell_type": "markdown",
   "metadata": {
    "colab_type": "text",
    "id": "tSx4VI8iOT_m"
   },
   "source": [
    "### Customize the learning rate to 0.001 in sgd optimizer and run the model\n"
   ]
  },
  {
   "cell_type": "code",
   "execution_count": null,
   "metadata": {},
   "outputs": [],
   "source": []
  },
  {
   "cell_type": "markdown",
   "metadata": {
    "colab_type": "text",
    "id": "9VXBNaCRUmKo"
   },
   "source": [
    "### Model Review\n",
    "#### Summarize the model using model.summary \n"
   ]
  },
  {
   "cell_type": "code",
   "execution_count": null,
   "metadata": {},
   "outputs": [],
   "source": []
  },
  {
   "cell_type": "markdown",
   "metadata": {
    "colab_type": "text",
    "id": "kdVRmflJUijw"
   },
   "source": [
    "Play around with your neural network model by changing the number of dense layers, learning rate, number of neurons in hidden layers. Try out different loss and activation functions and see if you can get better accuracy. <br><br>\n",
    "Also use the summary function to summarize the models.<br><br>\n",
    "\n",
    "*Happy Learning!* \n"
   ]
  }
 ],
 "metadata": {
  "colab": {
   "name": "PE W2- Tf keras NN Solutions.ipynb",
   "provenance": []
  },
  "kernelspec": {
   "display_name": "Python 3",
   "language": "python",
   "name": "python3"
  },
  "language_info": {
   "codemirror_mode": {
    "name": "ipython",
    "version": 3
   },
   "file_extension": ".py",
   "mimetype": "text/x-python",
   "name": "python",
   "nbconvert_exporter": "python",
   "pygments_lexer": "ipython3",
   "version": "3.7.3"
  }
 },
 "nbformat": 4,
 "nbformat_minor": 1
}
